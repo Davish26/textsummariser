{
  "cells": [
    {
      "cell_type": "markdown",
      "metadata": {
        "id": "view-in-github",
        "colab_type": "text"
      },
      "source": [
        "<a href=\"https://colab.research.google.com/github/Davish26/textsummariser/blob/main/Exam_1.ipynb\" target=\"_parent\"><img src=\"https://colab.research.google.com/assets/colab-badge.svg\" alt=\"Open In Colab\"/></a>"
      ]
    },
    {
      "cell_type": "markdown",
      "source": [
        "# Downloading Enron Email Data\n",
        "\n",
        "\n",
        "\n",
        "### Full/Complete Dataset\n",
        "\n",
        "The following code-cell will download the complete Enron email database to the Colab instance.  It will take about 1-2 mins to download."
      ],
      "metadata": {
        "id": "_6s_eJ_LyO1i"
      }
    },
    {
      "cell_type": "code",
      "execution_count": 82,
      "metadata": {
        "id": "lIYdn1woOS1n",
        "colab": {
          "base_uri": "https://localhost:8080/"
        },
        "outputId": "396a2f19-c80e-423c-f79c-bc5d66a11615"
      },
      "outputs": [
        {
          "output_type": "stream",
          "name": "stdout",
          "text": [
            "--2023-05-26 11:58:28--  https://curtin-my.sharepoint.com/:u:/g/personal/211934g_curtin_edu_au/EaYagsqa2r1Bi5wtHbswGFwBH2kd2uTnz6rlka7GI36GUQ?download=1\n",
            "Resolving curtin-my.sharepoint.com (curtin-my.sharepoint.com)... 13.107.136.8, 13.107.138.8, 2620:1ec:8f8::8, ...\n",
            "Connecting to curtin-my.sharepoint.com (curtin-my.sharepoint.com)|13.107.136.8|:443... connected.\n",
            "HTTP request sent, awaiting response... 302 Found\n",
            "Location: /personal/211934g_curtin_edu_au/Documents/Teaching/ISYS2001/ISYS2001-Assignment-2-Data/enron_sqlite3.db?ga=1 [following]\n",
            "--2023-05-26 11:58:30--  https://curtin-my.sharepoint.com/personal/211934g_curtin_edu_au/Documents/Teaching/ISYS2001/ISYS2001-Assignment-2-Data/enron_sqlite3.db?ga=1\n",
            "Reusing existing connection to curtin-my.sharepoint.com:443.\n",
            "HTTP request sent, awaiting response... 200 OK\n",
            "Length: 853819392 (814M) [application/octet-stream]\n",
            "Saving to: ‘enron.db’\n",
            "\n",
            "enron.db            100%[===================>] 814.27M  53.6MB/s    in 21s     \n",
            "\n",
            "2023-05-26 11:58:50 (39.7 MB/s) - ‘enron.db’ saved [853819392/853819392]\n",
            "\n"
          ]
        }
      ],
      "source": [
        "##running wget command to download enron data\n",
        "!wget -O enron.db https://curtin-my.sharepoint.com/:u:/g/personal/211934g_curtin_edu_au/EaYagsqa2r1Bi5wtHbswGFwBH2kd2uTnz6rlka7GI36GUQ?download=1"
      ]
    },
    {
      "cell_type": "code",
      "source": [
        "#used to import sqlite3 which is used to manage database\n",
        "import sqlite3"
      ],
      "metadata": {
        "id": "CLJk8YSmT6Db"
      },
      "execution_count": 83,
      "outputs": []
    },
    {
      "cell_type": "code",
      "source": [
        "#creating connection with the database\n",
        "conn = sqlite3.connect(\"enron.db\")"
      ],
      "metadata": {
        "id": "hJWmqXC8UDrP"
      },
      "execution_count": 84,
      "outputs": []
    },
    {
      "cell_type": "code",
      "source": [
        "#creating cursor\n",
        "cur = conn.cursor()"
      ],
      "metadata": {
        "id": "zSI7GCgsUHzq"
      },
      "execution_count": 85,
      "outputs": []
    },
    {
      "cell_type": "code",
      "source": [
        "#Checking schema of database\n",
        "sql = \"\"\"\n",
        "SELECT name\n",
        "FROM sqlite_master\n",
        "WHERE type = 'table';\n",
        "\"\"\"\n",
        "cur.execute(sql)\n",
        "cur.fetchall()"
      ],
      "metadata": {
        "colab": {
          "base_uri": "https://localhost:8080/"
        },
        "id": "mLk6ZBuWUPSD",
        "outputId": "ad835916-cc19-4b15-bacb-c0fbd9b4226b"
      },
      "execution_count": 86,
      "outputs": [
        {
          "output_type": "execute_result",
          "data": {
            "text/plain": [
              "[('employeelist',), ('message',), ('recipientinfo',), ('referenceinfo',)]"
            ]
          },
          "metadata": {},
          "execution_count": 86
        }
      ]
    },
    {
      "cell_type": "code",
      "source": [
        "#Checking schema of employeelist\n",
        "sql = \"\"\"\n",
        "PRAGMA table_info('employeelist');\n",
        "\"\"\"\n",
        "\n",
        "cur.execute(sql)\n",
        "cur.fetchall()"
      ],
      "metadata": {
        "colab": {
          "base_uri": "https://localhost:8080/"
        },
        "id": "xrH5HSPzUTGz",
        "outputId": "054e3661-73b6-4c11-ad14-375455a6e477"
      },
      "execution_count": 87,
      "outputs": [
        {
          "output_type": "execute_result",
          "data": {
            "text/plain": [
              "[(0, 'eid', 'INTEGER', 1, None, 1),\n",
              " (1, 'firstName', 'VARCHAR(31)', 1, \"''\", 0),\n",
              " (2, 'lastName', 'VARCHAR(31)', 1, \"''\", 0),\n",
              " (3, 'Email_id', 'VARCHAR(31)', 1, \"''\", 0),\n",
              " (4, 'Email2', 'VARCHAR(31)', 0, None, 0),\n",
              " (5, 'Email3', 'VARCHAR(31)', 0, None, 0),\n",
              " (6, 'EMail4', 'VARCHAR(31)', 0, None, 0),\n",
              " (7, 'folder', 'VARCHAR(31)', 1, \"''\", 0),\n",
              " (8, 'status', 'VARCHAR(50)', 0, None, 0)]"
            ]
          },
          "metadata": {},
          "execution_count": 87
        }
      ]
    },
    {
      "cell_type": "code",
      "source": [
        "#Checking schema of message\n",
        "sql = \"\"\"\n",
        "PRAGMA table_info('message');\n",
        "\"\"\"\n",
        "\n",
        "cur.execute(sql)\n",
        "cur.fetchall()"
      ],
      "metadata": {
        "colab": {
          "base_uri": "https://localhost:8080/"
        },
        "id": "_wu15LjEUZvl",
        "outputId": "b20fdfbc-a323-4b43-bfc1-9ffe6d089222"
      },
      "execution_count": 88,
      "outputs": [
        {
          "output_type": "execute_result",
          "data": {
            "text/plain": [
              "[(0, 'mid', 'INTEGER', 1, \"'0'\", 1),\n",
              " (1, 'sender', 'VARCHAR(127)', 1, \"''\", 0),\n",
              " (2, 'date', 'DATETIME', 0, None, 0),\n",
              " (3, 'message_id', 'VARCHAR(127)', 0, None, 0),\n",
              " (4, 'subject', 'TEXT', 0, None, 0),\n",
              " (5, 'body', 'TEXT', 0, None, 0),\n",
              " (6, 'folder', 'VARCHAR(127)', 1, \"''\", 0)]"
            ]
          },
          "metadata": {},
          "execution_count": 88
        }
      ]
    },
    {
      "cell_type": "code",
      "source": [
        "#Checking schema of recipient info\n",
        "sql = \"\"\"\n",
        "PRAGMA table_info('recipientinfo');\n",
        "\"\"\"\n",
        "\n",
        "cur.execute(sql)\n",
        "cur.fetchall()"
      ],
      "metadata": {
        "colab": {
          "base_uri": "https://localhost:8080/"
        },
        "id": "GvHsNXVkUh2p",
        "outputId": "37c2e918-a60f-4049-c8f5-8d940acf739b"
      },
      "execution_count": 89,
      "outputs": [
        {
          "output_type": "execute_result",
          "data": {
            "text/plain": [
              "[(0, 'rid', 'INTEGER', 1, \"'0'\", 1),\n",
              " (1, 'mid', 'INTEGER', 1, \"'0'\", 0),\n",
              " (2, 'rtype', 'TEXT', 0, None, 0),\n",
              " (3, 'rvalue', 'VARCHAR(127)', 0, None, 0),\n",
              " (4, 'dater', 'DATETIME', 0, None, 0)]"
            ]
          },
          "metadata": {},
          "execution_count": 89
        }
      ]
    },
    {
      "cell_type": "code",
      "source": [
        "#Checking schema of referenceinfo\n",
        "sql = \"\"\"\n",
        "PRAGMA table_info('referenceinfo');\n",
        "\"\"\"\n",
        "\n",
        "cur.execute(sql)\n",
        "cur.fetchall()"
      ],
      "metadata": {
        "colab": {
          "base_uri": "https://localhost:8080/"
        },
        "id": "TMlPb9hWUjlj",
        "outputId": "30888efb-8910-409c-9597-0838f293bc63"
      },
      "execution_count": 90,
      "outputs": [
        {
          "output_type": "execute_result",
          "data": {
            "text/plain": [
              "[(0, 'rfid', 'INTEGER', 1, \"'0'\", 1),\n",
              " (1, 'mid', 'INTEGER', 1, \"'0'\", 0),\n",
              " (2, 'reference', 'TEXT', 0, None, 0)]"
            ]
          },
          "metadata": {},
          "execution_count": 90
        }
      ]
    },
    {
      "cell_type": "code",
      "source": [
        "#Checking the format of the date\n",
        "sql = \"\"\"\n",
        "SELECT Date\n",
        "FROM message\n",
        "\"\"\"\n",
        "cur.execute(sql)\n",
        "cur.fetchone()"
      ],
      "metadata": {
        "colab": {
          "base_uri": "https://localhost:8080/"
        },
        "id": "Q5zkf2yRVD1i",
        "outputId": "85cd3cd2-54d3-413e-924a-8675d500f788"
      },
      "execution_count": 91,
      "outputs": [
        {
          "output_type": "execute_result",
          "data": {
            "text/plain": [
              "('2000-01-21 04:51:00',)"
            ]
          },
          "metadata": {},
          "execution_count": 91
        }
      ]
    },
    {
      "cell_type": "code",
      "source": [
        "#importing panda and converting to dataframe\n",
        "import pandas as pd\n",
        "sql = \"\"\"\n",
        "SELECT * from message;\n",
        "\"\"\"\n",
        "message_df = pd.read_sql_query(sql,conn)\n",
        "message_df"
      ],
      "metadata": {
        "colab": {
          "base_uri": "https://localhost:8080/",
          "height": 803
        },
        "id": "ZyDYBqC_XOwa",
        "outputId": "89d3a8af-9099-4888-a3ad-3eaadf7077c1"
      },
      "execution_count": 92,
      "outputs": [
        {
          "output_type": "execute_result",
          "data": {
            "text/plain": [
              "           mid                     sender                 date  \\\n",
              "0           52    press.release@enron.com  2000-01-21 04:51:00   \n",
              "1           53  office.chairman@enron.com  2000-01-24 01:37:00   \n",
              "2           54  office.chairman@enron.com  2000-01-24 02:06:00   \n",
              "3           55    press.release@enron.com  2000-02-02 10:21:00   \n",
              "4           56  office.chairman@enron.com  2000-02-07 22:16:00   \n",
              "...        ...                        ...                  ...   \n",
              "252754  404923    karen.buckley@enron.com  2002-02-06 16:51:29   \n",
              "252755  404924    karen.buckley@enron.com  2002-02-06 17:17:39   \n",
              "252756  404925       liz.taylor@enron.com  2002-02-06 20:09:37   \n",
              "252757  404926       pete.davis@enron.com  2002-02-07 04:38:13   \n",
              "252758  404927       pete.davis@enron.com  2002-02-07 05:38:14   \n",
              "\n",
              "                                           message_id  \\\n",
              "0       <12435833.1075863606729.JavaMail.evans@thyme>   \n",
              "1       <29664079.1075863606676.JavaMail.evans@thyme>   \n",
              "2       <15300605.1075863606629.JavaMail.evans@thyme>   \n",
              "3       <10522232.1075863606538.JavaMail.evans@thyme>   \n",
              "4       <16056123.1075863606515.JavaMail.evans@thyme>   \n",
              "...                                               ...   \n",
              "252754  <16183734.1075840015218.JavaMail.evans@thyme>   \n",
              "252755  <28117049.1075840015191.JavaMail.evans@thyme>   \n",
              "252756  <32633742.1075840015168.JavaMail.evans@thyme>   \n",
              "252757  <17912146.1075840015125.JavaMail.evans@thyme>   \n",
              "252758  <16703414.1075840015101.JavaMail.evans@thyme>   \n",
              "\n",
              "                                                  subject  \\\n",
              "0       ENRON HOSTS ANNUAL ANALYST CONFERENCE PROVIDES...   \n",
              "1                         Over $50 -- You made it happen!   \n",
              "2                         Over $50 -- You made it happen!   \n",
              "3       ROAD-SHOW.COM Q4i.COM CHOOSE ENRON TO DELIVER ...   \n",
              "4                            Fortune Most Admired Ranking   \n",
              "...                                                   ...   \n",
              "252754                   URGENT - NEED CONFIRMATION TODAY   \n",
              "252755                                                      \n",
              "252756  Trader Presentations - 2/7 @ 2:30 p.m. (CST) i...   \n",
              "252757             Start Date: 2/7/02; HourAhead hour: 3;   \n",
              "252758             Start Date: 2/7/02; HourAhead hour: 4;   \n",
              "\n",
              "                                                     body  \\\n",
              "0       HOUSTON - Enron Corp. hosted its annual equity...   \n",
              "1       On Wall Street, people are talking about Enron...   \n",
              "2       On Wall Street, people are talking about Enron...   \n",
              "3       HOUSTON =01) Enron Broadband Services (EBS), a...   \n",
              "4       Congratulations!  For an unprecedented five ye...   \n",
              "...                                                   ...   \n",
              "252754  X-FileName: Pls confirm at what location (i.e ...   \n",
              "252755  X-FileName: Craig - I need the date and locati...   \n",
              "252756  X-FileName:      There will be two presentatio...   \n",
              "252757  X-FileName: Start Date: 2/7/02; HourAhead hour...   \n",
              "252758  X-FileName: Start Date: 2/7/02; HourAhead hour...   \n",
              "\n",
              "                                                  folder  \n",
              "0       Robert_Badeer_Aug2000Notes FoldersPress releases  \n",
              "1       Robert_Badeer_Aug2000Notes FoldersPress releases  \n",
              "2       Robert_Badeer_Aug2000Notes FoldersPress releases  \n",
              "3       Robert_Badeer_Aug2000Notes FoldersPress releases  \n",
              "4       Robert_Badeer_Aug2000Notes FoldersPress releases  \n",
              "...                                                  ...  \n",
              "252754                        ExMerge - Dean, CraigInbox  \n",
              "252755                        ExMerge - Dean, CraigInbox  \n",
              "252756                        ExMerge - Dean, CraigInbox  \n",
              "252757                        ExMerge - Dean, CraigInbox  \n",
              "252758                        ExMerge - Dean, CraigInbox  \n",
              "\n",
              "[252759 rows x 7 columns]"
            ],
            "text/html": [
              "\n",
              "  <div id=\"df-1d986850-5086-4440-8dbb-eebd97c8c467\">\n",
              "    <div class=\"colab-df-container\">\n",
              "      <div>\n",
              "<style scoped>\n",
              "    .dataframe tbody tr th:only-of-type {\n",
              "        vertical-align: middle;\n",
              "    }\n",
              "\n",
              "    .dataframe tbody tr th {\n",
              "        vertical-align: top;\n",
              "    }\n",
              "\n",
              "    .dataframe thead th {\n",
              "        text-align: right;\n",
              "    }\n",
              "</style>\n",
              "<table border=\"1\" class=\"dataframe\">\n",
              "  <thead>\n",
              "    <tr style=\"text-align: right;\">\n",
              "      <th></th>\n",
              "      <th>mid</th>\n",
              "      <th>sender</th>\n",
              "      <th>date</th>\n",
              "      <th>message_id</th>\n",
              "      <th>subject</th>\n",
              "      <th>body</th>\n",
              "      <th>folder</th>\n",
              "    </tr>\n",
              "  </thead>\n",
              "  <tbody>\n",
              "    <tr>\n",
              "      <th>0</th>\n",
              "      <td>52</td>\n",
              "      <td>press.release@enron.com</td>\n",
              "      <td>2000-01-21 04:51:00</td>\n",
              "      <td>&lt;12435833.1075863606729.JavaMail.evans@thyme&gt;</td>\n",
              "      <td>ENRON HOSTS ANNUAL ANALYST CONFERENCE PROVIDES...</td>\n",
              "      <td>HOUSTON - Enron Corp. hosted its annual equity...</td>\n",
              "      <td>Robert_Badeer_Aug2000Notes FoldersPress releases</td>\n",
              "    </tr>\n",
              "    <tr>\n",
              "      <th>1</th>\n",
              "      <td>53</td>\n",
              "      <td>office.chairman@enron.com</td>\n",
              "      <td>2000-01-24 01:37:00</td>\n",
              "      <td>&lt;29664079.1075863606676.JavaMail.evans@thyme&gt;</td>\n",
              "      <td>Over $50 -- You made it happen!</td>\n",
              "      <td>On Wall Street, people are talking about Enron...</td>\n",
              "      <td>Robert_Badeer_Aug2000Notes FoldersPress releases</td>\n",
              "    </tr>\n",
              "    <tr>\n",
              "      <th>2</th>\n",
              "      <td>54</td>\n",
              "      <td>office.chairman@enron.com</td>\n",
              "      <td>2000-01-24 02:06:00</td>\n",
              "      <td>&lt;15300605.1075863606629.JavaMail.evans@thyme&gt;</td>\n",
              "      <td>Over $50 -- You made it happen!</td>\n",
              "      <td>On Wall Street, people are talking about Enron...</td>\n",
              "      <td>Robert_Badeer_Aug2000Notes FoldersPress releases</td>\n",
              "    </tr>\n",
              "    <tr>\n",
              "      <th>3</th>\n",
              "      <td>55</td>\n",
              "      <td>press.release@enron.com</td>\n",
              "      <td>2000-02-02 10:21:00</td>\n",
              "      <td>&lt;10522232.1075863606538.JavaMail.evans@thyme&gt;</td>\n",
              "      <td>ROAD-SHOW.COM Q4i.COM CHOOSE ENRON TO DELIVER ...</td>\n",
              "      <td>HOUSTON =01) Enron Broadband Services (EBS), a...</td>\n",
              "      <td>Robert_Badeer_Aug2000Notes FoldersPress releases</td>\n",
              "    </tr>\n",
              "    <tr>\n",
              "      <th>4</th>\n",
              "      <td>56</td>\n",
              "      <td>office.chairman@enron.com</td>\n",
              "      <td>2000-02-07 22:16:00</td>\n",
              "      <td>&lt;16056123.1075863606515.JavaMail.evans@thyme&gt;</td>\n",
              "      <td>Fortune Most Admired Ranking</td>\n",
              "      <td>Congratulations!  For an unprecedented five ye...</td>\n",
              "      <td>Robert_Badeer_Aug2000Notes FoldersPress releases</td>\n",
              "    </tr>\n",
              "    <tr>\n",
              "      <th>...</th>\n",
              "      <td>...</td>\n",
              "      <td>...</td>\n",
              "      <td>...</td>\n",
              "      <td>...</td>\n",
              "      <td>...</td>\n",
              "      <td>...</td>\n",
              "      <td>...</td>\n",
              "    </tr>\n",
              "    <tr>\n",
              "      <th>252754</th>\n",
              "      <td>404923</td>\n",
              "      <td>karen.buckley@enron.com</td>\n",
              "      <td>2002-02-06 16:51:29</td>\n",
              "      <td>&lt;16183734.1075840015218.JavaMail.evans@thyme&gt;</td>\n",
              "      <td>URGENT - NEED CONFIRMATION TODAY</td>\n",
              "      <td>X-FileName: Pls confirm at what location (i.e ...</td>\n",
              "      <td>ExMerge - Dean, CraigInbox</td>\n",
              "    </tr>\n",
              "    <tr>\n",
              "      <th>252755</th>\n",
              "      <td>404924</td>\n",
              "      <td>karen.buckley@enron.com</td>\n",
              "      <td>2002-02-06 17:17:39</td>\n",
              "      <td>&lt;28117049.1075840015191.JavaMail.evans@thyme&gt;</td>\n",
              "      <td></td>\n",
              "      <td>X-FileName: Craig - I need the date and locati...</td>\n",
              "      <td>ExMerge - Dean, CraigInbox</td>\n",
              "    </tr>\n",
              "    <tr>\n",
              "      <th>252756</th>\n",
              "      <td>404925</td>\n",
              "      <td>liz.taylor@enron.com</td>\n",
              "      <td>2002-02-06 20:09:37</td>\n",
              "      <td>&lt;32633742.1075840015168.JavaMail.evans@thyme&gt;</td>\n",
              "      <td>Trader Presentations - 2/7 @ 2:30 p.m. (CST) i...</td>\n",
              "      <td>X-FileName:      There will be two presentatio...</td>\n",
              "      <td>ExMerge - Dean, CraigInbox</td>\n",
              "    </tr>\n",
              "    <tr>\n",
              "      <th>252757</th>\n",
              "      <td>404926</td>\n",
              "      <td>pete.davis@enron.com</td>\n",
              "      <td>2002-02-07 04:38:13</td>\n",
              "      <td>&lt;17912146.1075840015125.JavaMail.evans@thyme&gt;</td>\n",
              "      <td>Start Date: 2/7/02; HourAhead hour: 3;</td>\n",
              "      <td>X-FileName: Start Date: 2/7/02; HourAhead hour...</td>\n",
              "      <td>ExMerge - Dean, CraigInbox</td>\n",
              "    </tr>\n",
              "    <tr>\n",
              "      <th>252758</th>\n",
              "      <td>404927</td>\n",
              "      <td>pete.davis@enron.com</td>\n",
              "      <td>2002-02-07 05:38:14</td>\n",
              "      <td>&lt;16703414.1075840015101.JavaMail.evans@thyme&gt;</td>\n",
              "      <td>Start Date: 2/7/02; HourAhead hour: 4;</td>\n",
              "      <td>X-FileName: Start Date: 2/7/02; HourAhead hour...</td>\n",
              "      <td>ExMerge - Dean, CraigInbox</td>\n",
              "    </tr>\n",
              "  </tbody>\n",
              "</table>\n",
              "<p>252759 rows × 7 columns</p>\n",
              "</div>\n",
              "      <button class=\"colab-df-convert\" onclick=\"convertToInteractive('df-1d986850-5086-4440-8dbb-eebd97c8c467')\"\n",
              "              title=\"Convert this dataframe to an interactive table.\"\n",
              "              style=\"display:none;\">\n",
              "        \n",
              "  <svg xmlns=\"http://www.w3.org/2000/svg\" height=\"24px\"viewBox=\"0 0 24 24\"\n",
              "       width=\"24px\">\n",
              "    <path d=\"M0 0h24v24H0V0z\" fill=\"none\"/>\n",
              "    <path d=\"M18.56 5.44l.94 2.06.94-2.06 2.06-.94-2.06-.94-.94-2.06-.94 2.06-2.06.94zm-11 1L8.5 8.5l.94-2.06 2.06-.94-2.06-.94L8.5 2.5l-.94 2.06-2.06.94zm10 10l.94 2.06.94-2.06 2.06-.94-2.06-.94-.94-2.06-.94 2.06-2.06.94z\"/><path d=\"M17.41 7.96l-1.37-1.37c-.4-.4-.92-.59-1.43-.59-.52 0-1.04.2-1.43.59L10.3 9.45l-7.72 7.72c-.78.78-.78 2.05 0 2.83L4 21.41c.39.39.9.59 1.41.59.51 0 1.02-.2 1.41-.59l7.78-7.78 2.81-2.81c.8-.78.8-2.07 0-2.86zM5.41 20L4 18.59l7.72-7.72 1.47 1.35L5.41 20z\"/>\n",
              "  </svg>\n",
              "      </button>\n",
              "      \n",
              "  <style>\n",
              "    .colab-df-container {\n",
              "      display:flex;\n",
              "      flex-wrap:wrap;\n",
              "      gap: 12px;\n",
              "    }\n",
              "\n",
              "    .colab-df-convert {\n",
              "      background-color: #E8F0FE;\n",
              "      border: none;\n",
              "      border-radius: 50%;\n",
              "      cursor: pointer;\n",
              "      display: none;\n",
              "      fill: #1967D2;\n",
              "      height: 32px;\n",
              "      padding: 0 0 0 0;\n",
              "      width: 32px;\n",
              "    }\n",
              "\n",
              "    .colab-df-convert:hover {\n",
              "      background-color: #E2EBFA;\n",
              "      box-shadow: 0px 1px 2px rgba(60, 64, 67, 0.3), 0px 1px 3px 1px rgba(60, 64, 67, 0.15);\n",
              "      fill: #174EA6;\n",
              "    }\n",
              "\n",
              "    [theme=dark] .colab-df-convert {\n",
              "      background-color: #3B4455;\n",
              "      fill: #D2E3FC;\n",
              "    }\n",
              "\n",
              "    [theme=dark] .colab-df-convert:hover {\n",
              "      background-color: #434B5C;\n",
              "      box-shadow: 0px 1px 3px 1px rgba(0, 0, 0, 0.15);\n",
              "      filter: drop-shadow(0px 1px 2px rgba(0, 0, 0, 0.3));\n",
              "      fill: #FFFFFF;\n",
              "    }\n",
              "  </style>\n",
              "\n",
              "      <script>\n",
              "        const buttonEl =\n",
              "          document.querySelector('#df-1d986850-5086-4440-8dbb-eebd97c8c467 button.colab-df-convert');\n",
              "        buttonEl.style.display =\n",
              "          google.colab.kernel.accessAllowed ? 'block' : 'none';\n",
              "\n",
              "        async function convertToInteractive(key) {\n",
              "          const element = document.querySelector('#df-1d986850-5086-4440-8dbb-eebd97c8c467');\n",
              "          const dataTable =\n",
              "            await google.colab.kernel.invokeFunction('convertToInteractive',\n",
              "                                                     [key], {});\n",
              "          if (!dataTable) return;\n",
              "\n",
              "          const docLinkHtml = 'Like what you see? Visit the ' +\n",
              "            '<a target=\"_blank\" href=https://colab.research.google.com/notebooks/data_table.ipynb>data table notebook</a>'\n",
              "            + ' to learn more about interactive tables.';\n",
              "          element.innerHTML = '';\n",
              "          dataTable['output_type'] = 'display_data';\n",
              "          await google.colab.output.renderOutput(dataTable, element);\n",
              "          const docLink = document.createElement('div');\n",
              "          docLink.innerHTML = docLinkHtml;\n",
              "          element.appendChild(docLink);\n",
              "        }\n",
              "      </script>\n",
              "    </div>\n",
              "  </div>\n",
              "  "
            ]
          },
          "metadata": {},
          "execution_count": 92
        }
      ]
    },
    {
      "cell_type": "code",
      "source": [
        "#checking for null values\n",
        "message_df.info()"
      ],
      "metadata": {
        "colab": {
          "base_uri": "https://localhost:8080/"
        },
        "id": "HpK1kbF_XtE_",
        "outputId": "47f05e37-34da-4373-de3b-b094e4f764b4"
      },
      "execution_count": 93,
      "outputs": [
        {
          "output_type": "stream",
          "name": "stdout",
          "text": [
            "<class 'pandas.core.frame.DataFrame'>\n",
            "RangeIndex: 252759 entries, 0 to 252758\n",
            "Data columns (total 7 columns):\n",
            " #   Column      Non-Null Count   Dtype \n",
            "---  ------      --------------   ----- \n",
            " 0   mid         252759 non-null  int64 \n",
            " 1   sender      252759 non-null  object\n",
            " 2   date        252759 non-null  object\n",
            " 3   message_id  252759 non-null  object\n",
            " 4   subject     252759 non-null  object\n",
            " 5   body        252759 non-null  object\n",
            " 6   folder      252759 non-null  object\n",
            "dtypes: int64(1), object(6)\n",
            "memory usage: 13.5+ MB\n"
          ]
        }
      ]
    },
    {
      "cell_type": "code",
      "source": [
        "#write sql query to count number of emails per day using strftime and COUNT() \n",
        "sql = \"\"\"\n",
        "SELECT strftime('%Y-%m-%d', date) AS day, COUNT(*) AS count_email\n",
        "FROM message\n",
        "Group by day\n",
        "\"\"\"\n",
        "cur.execute(sql)\n",
        "cur.fetchone()"
      ],
      "metadata": {
        "colab": {
          "base_uri": "https://localhost:8080/"
        },
        "id": "VMTGnr1_asu8",
        "outputId": "277cceae-7dca-4635-df31-309f9744b3d0"
      },
      "execution_count": 94,
      "outputs": [
        {
          "output_type": "execute_result",
          "data": {
            "text/plain": [
              "('0001-05-30', 2)"
            ]
          },
          "metadata": {},
          "execution_count": 94
        }
      ]
    },
    {
      "cell_type": "code",
      "source": [
        "#write sql query to count number of emails per week using strftime and COUNT() \n",
        "sql = \"\"\"\n",
        "SELECT strftime('%Y-%w', date) AS week, COUNT(*) AS count_email\n",
        "FROM message\n",
        "Group by week\n",
        "\"\"\"\n",
        "cur.execute(sql)\n",
        "cur.fetchone()"
      ],
      "metadata": {
        "id": "VSUuLXLlL-Q1",
        "colab": {
          "base_uri": "https://localhost:8080/"
        },
        "outputId": "db68bf44-d798-4dbc-c273-7614b7cfbc45"
      },
      "execution_count": 95,
      "outputs": [
        {
          "output_type": "execute_result",
          "data": {
            "text/plain": [
              "('0001-0', 4)"
            ]
          },
          "metadata": {},
          "execution_count": 95
        }
      ]
    },
    {
      "cell_type": "code",
      "source": [
        "#write sql query to count number of emails per month using strftime and COUNT() \n",
        "sql = \"\"\"\n",
        "SELECT strftime('%Y-%m', date) AS month, COUNT(*) AS count_email\n",
        "FROM message\n",
        "Group by month\n",
        "\"\"\"\n",
        "cur.execute(sql)\n",
        "cur.fetchone()"
      ],
      "metadata": {
        "colab": {
          "base_uri": "https://localhost:8080/"
        },
        "id": "AJMf1830NBTH",
        "outputId": "309b7e1c-e735-43d3-b6c8-2149d8da36ac"
      },
      "execution_count": 96,
      "outputs": [
        {
          "output_type": "execute_result",
          "data": {
            "text/plain": [
              "('0001-05', 2)"
            ]
          },
          "metadata": {},
          "execution_count": 96
        }
      ]
    },
    {
      "cell_type": "code",
      "source": [
        "#importing panda and converting to dataframe\n",
        "import pandas as pd\n",
        "message_df = pd.read_sql_query(sql,conn)"
      ],
      "metadata": {
        "id": "1v1zPWqUN7U9"
      },
      "execution_count": 97,
      "outputs": []
    },
    {
      "cell_type": "code",
      "source": [
        "#importing seaborn and mat plot lib\n",
        "import seaborn as sns\n",
        "import matplotlib.pyplot as plt"
      ],
      "metadata": {
        "id": "TBgONCR9bDxZ"
      },
      "execution_count": 98,
      "outputs": []
    },
    {
      "cell_type": "code",
      "source": [
        "#plotting graph per month and performing analysis\n",
        "fig = plt.subplots(figsize=(50, 5))\n",
        "sns.lineplot(data = message_df, x='month', y='count_email')\n",
        "plt.show()"
      ],
      "metadata": {
        "colab": {
          "base_uri": "https://localhost:8080/",
          "height": 166
        },
        "id": "93PSqiJVg8hd",
        "outputId": "5ac06f65-63d0-40aa-e3b9-d60f4963ae3a"
      },
      "execution_count": 99,
      "outputs": [
        {
          "output_type": "display_data",
          "data": {
            "text/plain": [
              "<Figure size 5000x500 with 1 Axes>"
            ],
            "image/png": "[encoded data removed]"
          },
          "metadata": {}
        }
      ]
    },
    {
      "cell_type": "markdown",
      "source": [
        "It can be seen that it starts around the month of april and keeps increasing. It reaches its peak in the month of september in the year 2001 with a count of around 30000 mails. Around June 2002 we can notice that it goes to down to 0 again which is the year it went down. "
      ],
      "metadata": {
        "id": "XxLsWthG2HLy"
      }
    },
    {
      "cell_type": "code",
      "source": [
        "#Using sql query to take the top 10 senders from the message table\n",
        "sender_sql = \"\"\"\n",
        "SELECT sender, COUNT(*) as count_email\n",
        "FROM message\n",
        "GROUP BY sender\n",
        "ORDER BY count_email DESC\n",
        "LIMIT 10\n",
        "\"\"\"\n",
        "sender_data = pd.read_sql_query(sender_sql, conn)"
      ],
      "metadata": {
        "id": "8Kd7xAWOksGX"
      },
      "execution_count": 100,
      "outputs": []
    },
    {
      "cell_type": "code",
      "source": [
        "#Using sql query to take the top 10 recipients from the recipientinfo table\n",
        "recipient_email = \"\"\"\n",
        "SELECT rvalue, COUNT(*) as count_email\n",
        "FROM recipientinfo\n",
        "GROUP BY rvalue\n",
        "ORDER BY count_email DESC\n",
        "LIMIT 10\n",
        "\"\"\"\n",
        "recipient_data = pd.read_sql_query(recipient_email, conn)"
      ],
      "metadata": {
        "id": "HV1HYQ36v8m0"
      },
      "execution_count": 101,
      "outputs": []
    },
    {
      "cell_type": "code",
      "source": [
        "#Making sure whether it has selected the top 10 senders\n",
        "sender_data"
      ],
      "metadata": {
        "colab": {
          "base_uri": "https://localhost:8080/",
          "height": 359
        },
        "id": "LBDvNYwMcAe1",
        "outputId": "874d38d7-fbab-4f79-c41e-b1a41de6d251"
      },
      "execution_count": 102,
      "outputs": [
        {
          "output_type": "execute_result",
          "data": {
            "text/plain": [
              "                          sender  count_email\n",
              "0        jeff.dasovich@enron.com         6273\n",
              "1           j.kaminski@enron.com         5838\n",
              "2             kay.mann@enron.com         5100\n",
              "3      sara.shackleton@enron.com         4797\n",
              "4           tana.jones@enron.com         4437\n",
              "5        chris.germany@enron.com         3686\n",
              "6           no.address@enron.com         3511\n",
              "7  enron.announcements@enron.com         2838\n",
              "8      matthew.lenhart@enron.com         2784\n",
              "9    debra.perlingiere@enron.com         2549"
            ],
            "text/html": [
              "\n",
              "  <div id=\"df-3431e83a-ef53-4565-90d6-45d9e241a22a\">\n",
              "    <div class=\"colab-df-container\">\n",
              "      <div>\n",
              "<style scoped>\n",
              "    .dataframe tbody tr th:only-of-type {\n",
              "        vertical-align: middle;\n",
              "    }\n",
              "\n",
              "    .dataframe tbody tr th {\n",
              "        vertical-align: top;\n",
              "    }\n",
              "\n",
              "    .dataframe thead th {\n",
              "        text-align: right;\n",
              "    }\n",
              "</style>\n",
              "<table border=\"1\" class=\"dataframe\">\n",
              "  <thead>\n",
              "    <tr style=\"text-align: right;\">\n",
              "      <th></th>\n",
              "      <th>sender</th>\n",
              "      <th>count_email</th>\n",
              "    </tr>\n",
              "  </thead>\n",
              "  <tbody>\n",
              "    <tr>\n",
              "      <th>0</th>\n",
              "      <td>jeff.dasovich@enron.com</td>\n",
              "      <td>6273</td>\n",
              "    </tr>\n",
              "    <tr>\n",
              "      <th>1</th>\n",
              "      <td>j.kaminski@enron.com</td>\n",
              "      <td>5838</td>\n",
              "    </tr>\n",
              "    <tr>\n",
              "      <th>2</th>\n",
              "      <td>kay.mann@enron.com</td>\n",
              "      <td>5100</td>\n",
              "    </tr>\n",
              "    <tr>\n",
              "      <th>3</th>\n",
              "      <td>sara.shackleton@enron.com</td>\n",
              "      <td>4797</td>\n",
              "    </tr>\n",
              "    <tr>\n",
              "      <th>4</th>\n",
              "      <td>tana.jones@enron.com</td>\n",
              "      <td>4437</td>\n",
              "    </tr>\n",
              "    <tr>\n",
              "      <th>5</th>\n",
              "      <td>chris.germany@enron.com</td>\n",
              "      <td>3686</td>\n",
              "    </tr>\n",
              "    <tr>\n",
              "      <th>6</th>\n",
              "      <td>no.address@enron.com</td>\n",
              "      <td>3511</td>\n",
              "    </tr>\n",
              "    <tr>\n",
              "      <th>7</th>\n",
              "      <td>enron.announcements@enron.com</td>\n",
              "      <td>2838</td>\n",
              "    </tr>\n",
              "    <tr>\n",
              "      <th>8</th>\n",
              "      <td>matthew.lenhart@enron.com</td>\n",
              "      <td>2784</td>\n",
              "    </tr>\n",
              "    <tr>\n",
              "      <th>9</th>\n",
              "      <td>debra.perlingiere@enron.com</td>\n",
              "      <td>2549</td>\n",
              "    </tr>\n",
              "  </tbody>\n",
              "</table>\n",
              "</div>\n",
              "      <button class=\"colab-df-convert\" onclick=\"convertToInteractive('df-3431e83a-ef53-4565-90d6-45d9e241a22a')\"\n",
              "              title=\"Convert this dataframe to an interactive table.\"\n",
              "              style=\"display:none;\">\n",
              "        \n",
              "  <svg xmlns=\"http://www.w3.org/2000/svg\" height=\"24px\"viewBox=\"0 0 24 24\"\n",
              "       width=\"24px\">\n",
              "    <path d=\"M0 0h24v24H0V0z\" fill=\"none\"/>\n",
              "    <path d=\"M18.56 5.44l.94 2.06.94-2.06 2.06-.94-2.06-.94-.94-2.06-.94 2.06-2.06.94zm-11 1L8.5 8.5l.94-2.06 2.06-.94-2.06-.94L8.5 2.5l-.94 2.06-2.06.94zm10 10l.94 2.06.94-2.06 2.06-.94-2.06-.94-.94-2.06-.94 2.06-2.06.94z\"/><path d=\"M17.41 7.96l-1.37-1.37c-.4-.4-.92-.59-1.43-.59-.52 0-1.04.2-1.43.59L10.3 9.45l-7.72 7.72c-.78.78-.78 2.05 0 2.83L4 21.41c.39.39.9.59 1.41.59.51 0 1.02-.2 1.41-.59l7.78-7.78 2.81-2.81c.8-.78.8-2.07 0-2.86zM5.41 20L4 18.59l7.72-7.72 1.47 1.35L5.41 20z\"/>\n",
              "  </svg>\n",
              "      </button>\n",
              "      \n",
              "  <style>\n",
              "    .colab-df-container {\n",
              "      display:flex;\n",
              "      flex-wrap:wrap;\n",
              "      gap: 12px;\n",
              "    }\n",
              "\n",
              "    .colab-df-convert {\n",
              "      background-color: #E8F0FE;\n",
              "      border: none;\n",
              "      border-radius: 50%;\n",
              "      cursor: pointer;\n",
              "      display: none;\n",
              "      fill: #1967D2;\n",
              "      height: 32px;\n",
              "      padding: 0 0 0 0;\n",
              "      width: 32px;\n",
              "    }\n",
              "\n",
              "    .colab-df-convert:hover {\n",
              "      background-color: #E2EBFA;\n",
              "      box-shadow: 0px 1px 2px rgba(60, 64, 67, 0.3), 0px 1px 3px 1px rgba(60, 64, 67, 0.15);\n",
              "      fill: #174EA6;\n",
              "    }\n",
              "\n",
              "    [theme=dark] .colab-df-convert {\n",
              "      background-color: #3B4455;\n",
              "      fill: #D2E3FC;\n",
              "    }\n",
              "\n",
              "    [theme=dark] .colab-df-convert:hover {\n",
              "      background-color: #434B5C;\n",
              "      box-shadow: 0px 1px 3px 1px rgba(0, 0, 0, 0.15);\n",
              "      filter: drop-shadow(0px 1px 2px rgba(0, 0, 0, 0.3));\n",
              "      fill: #FFFFFF;\n",
              "    }\n",
              "  </style>\n",
              "\n",
              "      <script>\n",
              "        const buttonEl =\n",
              "          document.querySelector('#df-3431e83a-ef53-4565-90d6-45d9e241a22a button.colab-df-convert');\n",
              "        buttonEl.style.display =\n",
              "          google.colab.kernel.accessAllowed ? 'block' : 'none';\n",
              "\n",
              "        async function convertToInteractive(key) {\n",
              "          const element = document.querySelector('#df-3431e83a-ef53-4565-90d6-45d9e241a22a');\n",
              "          const dataTable =\n",
              "            await google.colab.kernel.invokeFunction('convertToInteractive',\n",
              "                                                     [key], {});\n",
              "          if (!dataTable) return;\n",
              "\n",
              "          const docLinkHtml = 'Like what you see? Visit the ' +\n",
              "            '<a target=\"_blank\" href=https://colab.research.google.com/notebooks/data_table.ipynb>data table notebook</a>'\n",
              "            + ' to learn more about interactive tables.';\n",
              "          element.innerHTML = '';\n",
              "          dataTable['output_type'] = 'display_data';\n",
              "          await google.colab.output.renderOutput(dataTable, element);\n",
              "          const docLink = document.createElement('div');\n",
              "          docLink.innerHTML = docLinkHtml;\n",
              "          element.appendChild(docLink);\n",
              "        }\n",
              "      </script>\n",
              "    </div>\n",
              "  </div>\n",
              "  "
            ]
          },
          "metadata": {},
          "execution_count": 102
        }
      ]
    },
    {
      "cell_type": "code",
      "source": [
        "#Making sure whether it has selected the top 10 recipients\n",
        "recipient_data"
      ],
      "metadata": {
        "colab": {
          "base_uri": "https://localhost:8080/",
          "height": 359
        },
        "id": "C1imKJVfck9_",
        "outputId": "981e646d-1d89-4dec-ce28-6c428b4cbe63"
      },
      "execution_count": 103,
      "outputs": [
        {
          "output_type": "execute_result",
          "data": {
            "text/plain": [
              "                      rvalue  count_email\n",
              "0       no.address@enron.com        19198\n",
              "1    jeff.dasovich@enron.com        11137\n",
              "2  richard.shapiro@enron.com        11015\n",
              "3    steven.j.kean@enron.com        10873\n",
              "4  james.d.steffes@enron.com        10615\n",
              "5       tana.jones@enron.com         9781\n",
              "6  sara.shackleton@enron.com         9633\n",
              "7    mark.e.taylor@enron.com         9090\n",
              "8   louise.kitchen@enron.com         7603\n",
              "9       pete.davis@enron.com         7509"
            ],
            "text/html": [
              "\n",
              "  <div id=\"df-ce77b373-840f-472c-ab51-7c04fc8ee375\">\n",
              "    <div class=\"colab-df-container\">\n",
              "      <div>\n",
              "<style scoped>\n",
              "    .dataframe tbody tr th:only-of-type {\n",
              "        vertical-align: middle;\n",
              "    }\n",
              "\n",
              "    .dataframe tbody tr th {\n",
              "        vertical-align: top;\n",
              "    }\n",
              "\n",
              "    .dataframe thead th {\n",
              "        text-align: right;\n",
              "    }\n",
              "</style>\n",
              "<table border=\"1\" class=\"dataframe\">\n",
              "  <thead>\n",
              "    <tr style=\"text-align: right;\">\n",
              "      <th></th>\n",
              "      <th>rvalue</th>\n",
              "      <th>count_email</th>\n",
              "    </tr>\n",
              "  </thead>\n",
              "  <tbody>\n",
              "    <tr>\n",
              "      <th>0</th>\n",
              "      <td>no.address@enron.com</td>\n",
              "      <td>19198</td>\n",
              "    </tr>\n",
              "    <tr>\n",
              "      <th>1</th>\n",
              "      <td>jeff.dasovich@enron.com</td>\n",
              "      <td>11137</td>\n",
              "    </tr>\n",
              "    <tr>\n",
              "      <th>2</th>\n",
              "      <td>richard.shapiro@enron.com</td>\n",
              "      <td>11015</td>\n",
              "    </tr>\n",
              "    <tr>\n",
              "      <th>3</th>\n",
              "      <td>steven.j.kean@enron.com</td>\n",
              "      <td>10873</td>\n",
              "    </tr>\n",
              "    <tr>\n",
              "      <th>4</th>\n",
              "      <td>james.d.steffes@enron.com</td>\n",
              "      <td>10615</td>\n",
              "    </tr>\n",
              "    <tr>\n",
              "      <th>5</th>\n",
              "      <td>tana.jones@enron.com</td>\n",
              "      <td>9781</td>\n",
              "    </tr>\n",
              "    <tr>\n",
              "      <th>6</th>\n",
              "      <td>sara.shackleton@enron.com</td>\n",
              "      <td>9633</td>\n",
              "    </tr>\n",
              "    <tr>\n",
              "      <th>7</th>\n",
              "      <td>mark.e.taylor@enron.com</td>\n",
              "      <td>9090</td>\n",
              "    </tr>\n",
              "    <tr>\n",
              "      <th>8</th>\n",
              "      <td>louise.kitchen@enron.com</td>\n",
              "      <td>7603</td>\n",
              "    </tr>\n",
              "    <tr>\n",
              "      <th>9</th>\n",
              "      <td>pete.davis@enron.com</td>\n",
              "      <td>7509</td>\n",
              "    </tr>\n",
              "  </tbody>\n",
              "</table>\n",
              "</div>\n",
              "      <button class=\"colab-df-convert\" onclick=\"convertToInteractive('df-ce77b373-840f-472c-ab51-7c04fc8ee375')\"\n",
              "              title=\"Convert this dataframe to an interactive table.\"\n",
              "              style=\"display:none;\">\n",
              "        \n",
              "  <svg xmlns=\"http://www.w3.org/2000/svg\" height=\"24px\"viewBox=\"0 0 24 24\"\n",
              "       width=\"24px\">\n",
              "    <path d=\"M0 0h24v24H0V0z\" fill=\"none\"/>\n",
              "    <path d=\"M18.56 5.44l.94 2.06.94-2.06 2.06-.94-2.06-.94-.94-2.06-.94 2.06-2.06.94zm-11 1L8.5 8.5l.94-2.06 2.06-.94-2.06-.94L8.5 2.5l-.94 2.06-2.06.94zm10 10l.94 2.06.94-2.06 2.06-.94-2.06-.94-.94-2.06-.94 2.06-2.06.94z\"/><path d=\"M17.41 7.96l-1.37-1.37c-.4-.4-.92-.59-1.43-.59-.52 0-1.04.2-1.43.59L10.3 9.45l-7.72 7.72c-.78.78-.78 2.05 0 2.83L4 21.41c.39.39.9.59 1.41.59.51 0 1.02-.2 1.41-.59l7.78-7.78 2.81-2.81c.8-.78.8-2.07 0-2.86zM5.41 20L4 18.59l7.72-7.72 1.47 1.35L5.41 20z\"/>\n",
              "  </svg>\n",
              "      </button>\n",
              "      \n",
              "  <style>\n",
              "    .colab-df-container {\n",
              "      display:flex;\n",
              "      flex-wrap:wrap;\n",
              "      gap: 12px;\n",
              "    }\n",
              "\n",
              "    .colab-df-convert {\n",
              "      background-color: #E8F0FE;\n",
              "      border: none;\n",
              "      border-radius: 50%;\n",
              "      cursor: pointer;\n",
              "      display: none;\n",
              "      fill: #1967D2;\n",
              "      height: 32px;\n",
              "      padding: 0 0 0 0;\n",
              "      width: 32px;\n",
              "    }\n",
              "\n",
              "    .colab-df-convert:hover {\n",
              "      background-color: #E2EBFA;\n",
              "      box-shadow: 0px 1px 2px rgba(60, 64, 67, 0.3), 0px 1px 3px 1px rgba(60, 64, 67, 0.15);\n",
              "      fill: #174EA6;\n",
              "    }\n",
              "\n",
              "    [theme=dark] .colab-df-convert {\n",
              "      background-color: #3B4455;\n",
              "      fill: #D2E3FC;\n",
              "    }\n",
              "\n",
              "    [theme=dark] .colab-df-convert:hover {\n",
              "      background-color: #434B5C;\n",
              "      box-shadow: 0px 1px 3px 1px rgba(0, 0, 0, 0.15);\n",
              "      filter: drop-shadow(0px 1px 2px rgba(0, 0, 0, 0.3));\n",
              "      fill: #FFFFFF;\n",
              "    }\n",
              "  </style>\n",
              "\n",
              "      <script>\n",
              "        const buttonEl =\n",
              "          document.querySelector('#df-ce77b373-840f-472c-ab51-7c04fc8ee375 button.colab-df-convert');\n",
              "        buttonEl.style.display =\n",
              "          google.colab.kernel.accessAllowed ? 'block' : 'none';\n",
              "\n",
              "        async function convertToInteractive(key) {\n",
              "          const element = document.querySelector('#df-ce77b373-840f-472c-ab51-7c04fc8ee375');\n",
              "          const dataTable =\n",
              "            await google.colab.kernel.invokeFunction('convertToInteractive',\n",
              "                                                     [key], {});\n",
              "          if (!dataTable) return;\n",
              "\n",
              "          const docLinkHtml = 'Like what you see? Visit the ' +\n",
              "            '<a target=\"_blank\" href=https://colab.research.google.com/notebooks/data_table.ipynb>data table notebook</a>'\n",
              "            + ' to learn more about interactive tables.';\n",
              "          element.innerHTML = '';\n",
              "          dataTable['output_type'] = 'display_data';\n",
              "          await google.colab.output.renderOutput(dataTable, element);\n",
              "          const docLink = document.createElement('div');\n",
              "          docLink.innerHTML = docLinkHtml;\n",
              "          element.appendChild(docLink);\n",
              "        }\n",
              "      </script>\n",
              "    </div>\n",
              "  </div>\n",
              "  "
            ]
          },
          "metadata": {},
          "execution_count": 103
        }
      ]
    },
    {
      "cell_type": "code",
      "source": [
        "#Plotting barchart for the top 10 senders from the message table\n",
        "sns.barplot(data=sender_data, x = 'count_email', y = 'sender')\n",
        "plt.xlabel('count_email')\n",
        "plt.ylabel('sender')\n",
        "plt.title('Top senders')\n",
        "plt.tight_layout\n",
        "plt.show"
      ],
      "metadata": {
        "colab": {
          "base_uri": "https://localhost:8080/",
          "height": 489
        },
        "id": "OJlsfFwYbAvj",
        "outputId": "7ab9b347-625e-41e5-89aa-0a7f969a3300"
      },
      "execution_count": 104,
      "outputs": [
        {
          "output_type": "execute_result",
          "data": {
            "text/plain": [
              "<function matplotlib.pyplot.show(close=None, block=None)>"
            ]
          },
          "metadata": {},
          "execution_count": 104
        },
        {
          "output_type": "display_data",
          "data": {
            "text/plain": [
              "<Figure size 640x480 with 1 Axes>"
            ],
            "image/png": "[encoded data removed]"
          },
          "metadata": {}
        }
      ]
    },
    {
      "cell_type": "markdown",
      "source": [
        "The top 10 sender can be seen with \"jeff.dasovich@enron.com\" at the top position and a total count of around 6000 mails. It can be noted that the top senders have sent above 2000 mails. "
      ],
      "metadata": {
        "id": "uCyG6Ra84Cso"
      }
    },
    {
      "cell_type": "code",
      "source": [
        "#Plotting barchart for the top 10 recipients from the recipientinfo table\n",
        "sns.barplot(data=recipient_data, x = 'count_email', y = 'rvalue')\n",
        "plt.xlabel('count_email')\n",
        "plt.ylabel('sender')\n",
        "plt.title('Top senders')\n",
        "plt.tight_layout\n",
        "plt.show"
      ],
      "metadata": {
        "colab": {
          "base_uri": "https://localhost:8080/",
          "height": 489
        },
        "id": "1oSRzxZYhlSQ",
        "outputId": "f4d1258f-6e90-4768-c2ca-8ab973ce1ce0"
      },
      "execution_count": 105,
      "outputs": [
        {
          "output_type": "execute_result",
          "data": {
            "text/plain": [
              "<function matplotlib.pyplot.show(close=None, block=None)>"
            ]
          },
          "metadata": {},
          "execution_count": 105
        },
        {
          "output_type": "display_data",
          "data": {
            "text/plain": [
              "<Figure size 640x480 with 1 Axes>"
            ],
            "image/png": "[encoded data removed]"
          },
          "metadata": {}
        }
      ]
    },
    {
      "cell_type": "markdown",
      "source": [
        "The top 10 recipients can be seen with \"no.address@enron.com\" at the top position and a total count of just less than 20000 mails. With an average of around 10000 emails, the top recipient is an outlier"
      ],
      "metadata": {
        "id": "E3r56AiI4aMr"
      }
    },
    {
      "cell_type": "code",
      "source": [
        "#creating a query to see the amount of mails classified by their rtype\n",
        "pie_query = \"\"\"\n",
        "SELECT rtype, COUNT(*) as count_email\n",
        "FROM recipientinfo\n",
        "GROUP BY rtype\n",
        "\"\"\"\n",
        "pie_data = pd.read_sql_query(pie_query, conn)\n",
        "pie_data"
      ],
      "metadata": {
        "id": "GLEdRzXDyLP9",
        "colab": {
          "base_uri": "https://localhost:8080/",
          "height": 142
        },
        "outputId": "b75b3257-6ca3-47cc-da61-bdabe026b630"
      },
      "execution_count": 106,
      "outputs": [
        {
          "output_type": "execute_result",
          "data": {
            "text/plain": [
              "  rtype  count_email\n",
              "0   BCC       253713\n",
              "1    CC       253735\n",
              "2    TO      1556994"
            ],
            "text/html": [
              "\n",
              "  <div id=\"df-6355a66b-f3c9-4632-8adb-5d67d0fad6e3\">\n",
              "    <div class=\"colab-df-container\">\n",
              "      <div>\n",
              "<style scoped>\n",
              "    .dataframe tbody tr th:only-of-type {\n",
              "        vertical-align: middle;\n",
              "    }\n",
              "\n",
              "    .dataframe tbody tr th {\n",
              "        vertical-align: top;\n",
              "    }\n",
              "\n",
              "    .dataframe thead th {\n",
              "        text-align: right;\n",
              "    }\n",
              "</style>\n",
              "<table border=\"1\" class=\"dataframe\">\n",
              "  <thead>\n",
              "    <tr style=\"text-align: right;\">\n",
              "      <th></th>\n",
              "      <th>rtype</th>\n",
              "      <th>count_email</th>\n",
              "    </tr>\n",
              "  </thead>\n",
              "  <tbody>\n",
              "    <tr>\n",
              "      <th>0</th>\n",
              "      <td>BCC</td>\n",
              "      <td>253713</td>\n",
              "    </tr>\n",
              "    <tr>\n",
              "      <th>1</th>\n",
              "      <td>CC</td>\n",
              "      <td>253735</td>\n",
              "    </tr>\n",
              "    <tr>\n",
              "      <th>2</th>\n",
              "      <td>TO</td>\n",
              "      <td>1556994</td>\n",
              "    </tr>\n",
              "  </tbody>\n",
              "</table>\n",
              "</div>\n",
              "      <button class=\"colab-df-convert\" onclick=\"convertToInteractive('df-6355a66b-f3c9-4632-8adb-5d67d0fad6e3')\"\n",
              "              title=\"Convert this dataframe to an interactive table.\"\n",
              "              style=\"display:none;\">\n",
              "        \n",
              "  <svg xmlns=\"http://www.w3.org/2000/svg\" height=\"24px\"viewBox=\"0 0 24 24\"\n",
              "       width=\"24px\">\n",
              "    <path d=\"M0 0h24v24H0V0z\" fill=\"none\"/>\n",
              "    <path d=\"M18.56 5.44l.94 2.06.94-2.06 2.06-.94-2.06-.94-.94-2.06-.94 2.06-2.06.94zm-11 1L8.5 8.5l.94-2.06 2.06-.94-2.06-.94L8.5 2.5l-.94 2.06-2.06.94zm10 10l.94 2.06.94-2.06 2.06-.94-2.06-.94-.94-2.06-.94 2.06-2.06.94z\"/><path d=\"M17.41 7.96l-1.37-1.37c-.4-.4-.92-.59-1.43-.59-.52 0-1.04.2-1.43.59L10.3 9.45l-7.72 7.72c-.78.78-.78 2.05 0 2.83L4 21.41c.39.39.9.59 1.41.59.51 0 1.02-.2 1.41-.59l7.78-7.78 2.81-2.81c.8-.78.8-2.07 0-2.86zM5.41 20L4 18.59l7.72-7.72 1.47 1.35L5.41 20z\"/>\n",
              "  </svg>\n",
              "      </button>\n",
              "      \n",
              "  <style>\n",
              "    .colab-df-container {\n",
              "      display:flex;\n",
              "      flex-wrap:wrap;\n",
              "      gap: 12px;\n",
              "    }\n",
              "\n",
              "    .colab-df-convert {\n",
              "      background-color: #E8F0FE;\n",
              "      border: none;\n",
              "      border-radius: 50%;\n",
              "      cursor: pointer;\n",
              "      display: none;\n",
              "      fill: #1967D2;\n",
              "      height: 32px;\n",
              "      padding: 0 0 0 0;\n",
              "      width: 32px;\n",
              "    }\n",
              "\n",
              "    .colab-df-convert:hover {\n",
              "      background-color: #E2EBFA;\n",
              "      box-shadow: 0px 1px 2px rgba(60, 64, 67, 0.3), 0px 1px 3px 1px rgba(60, 64, 67, 0.15);\n",
              "      fill: #174EA6;\n",
              "    }\n",
              "\n",
              "    [theme=dark] .colab-df-convert {\n",
              "      background-color: #3B4455;\n",
              "      fill: #D2E3FC;\n",
              "    }\n",
              "\n",
              "    [theme=dark] .colab-df-convert:hover {\n",
              "      background-color: #434B5C;\n",
              "      box-shadow: 0px 1px 3px 1px rgba(0, 0, 0, 0.15);\n",
              "      filter: drop-shadow(0px 1px 2px rgba(0, 0, 0, 0.3));\n",
              "      fill: #FFFFFF;\n",
              "    }\n",
              "  </style>\n",
              "\n",
              "      <script>\n",
              "        const buttonEl =\n",
              "          document.querySelector('#df-6355a66b-f3c9-4632-8adb-5d67d0fad6e3 button.colab-df-convert');\n",
              "        buttonEl.style.display =\n",
              "          google.colab.kernel.accessAllowed ? 'block' : 'none';\n",
              "\n",
              "        async function convertToInteractive(key) {\n",
              "          const element = document.querySelector('#df-6355a66b-f3c9-4632-8adb-5d67d0fad6e3');\n",
              "          const dataTable =\n",
              "            await google.colab.kernel.invokeFunction('convertToInteractive',\n",
              "                                                     [key], {});\n",
              "          if (!dataTable) return;\n",
              "\n",
              "          const docLinkHtml = 'Like what you see? Visit the ' +\n",
              "            '<a target=\"_blank\" href=https://colab.research.google.com/notebooks/data_table.ipynb>data table notebook</a>'\n",
              "            + ' to learn more about interactive tables.';\n",
              "          element.innerHTML = '';\n",
              "          dataTable['output_type'] = 'display_data';\n",
              "          await google.colab.output.renderOutput(dataTable, element);\n",
              "          const docLink = document.createElement('div');\n",
              "          docLink.innerHTML = docLinkHtml;\n",
              "          element.appendChild(docLink);\n",
              "        }\n",
              "      </script>\n",
              "    </div>\n",
              "  </div>\n",
              "  "
            ]
          },
          "metadata": {},
          "execution_count": 106
        }
      ]
    },
    {
      "cell_type": "code",
      "source": [
        "#plotting piechart using the count mails based on their rtype and values\n",
        "plt.figure(figsize=(8,6))\n",
        "plt.pie(data= pie_data, x= 'count_email', labels='rtype', autopct='%.1f%%')\n",
        "plt.title('Pie Chart')\n",
        "plt.show()"
      ],
      "metadata": {
        "colab": {
          "base_uri": "https://localhost:8080/",
          "height": 521
        },
        "id": "6z7E9dFw34P8",
        "outputId": "d9162277-e7f3-43a5-918d-dec05a24eb29"
      },
      "execution_count": 107,
      "outputs": [
        {
          "output_type": "display_data",
          "data": {
            "text/plain": [
              "<Figure size 800x600 with 1 Axes>"
            ],
            "image/png": "[encoded data removed]"
          },
          "metadata": {}
        }
      ]
    },
    {
      "cell_type": "markdown",
      "source": [
        "It can be noticed that the majority of the mails have been sent using the rtype \"TO\" which is 75.4% and due to near figures we can see that \"CC\" and \"BCC\" have the same amount of percentage. "
      ],
      "metadata": {
        "id": "mxNZtyBx5Uov"
      }
    },
    {
      "cell_type": "code",
      "source": [
        "#conn.close is used to close the connection with the database\n",
        "#conn.commit is used to save the changes\n",
        "conn.close\n",
        "conn.commit"
      ],
      "metadata": {
        "id": "LWGjN8jVimxE",
        "colab": {
          "base_uri": "https://localhost:8080/"
        },
        "outputId": "dcaaf7c7-d2c7-4580-c51c-3555a27a8517"
      },
      "execution_count": 108,
      "outputs": [
        {
          "output_type": "execute_result",
          "data": {
            "text/plain": [
              "<function Connection.commit()>"
            ]
          },
          "metadata": {},
          "execution_count": 108
        }
      ]
    }
  ],
  "metadata": {
    "colab": {
      "provenance": [],
      "include_colab_link": true
    },
    "kernelspec": {
      "display_name": "Python 3",
      "name": "python3"
    }
  },
  "nbformat": 4,
  "nbformat_minor": 0
}