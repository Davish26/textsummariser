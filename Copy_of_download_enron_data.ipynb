{
  "cells": [
    {
      "cell_type": "markdown",
      "metadata": {
        "id": "view-in-github",
        "colab_type": "text"
      },
      "source": [
        "<a href=\"https://colab.research.google.com/github/Davish26/textsummariser/blob/main/Copy_of_download_enron_data.ipynb\" target=\"_parent\"><img src=\"https://colab.research.google.com/assets/colab-badge.svg\" alt=\"Open In Colab\"/></a>"
      ]
    },
    {
      "cell_type": "markdown",
      "source": [
        "# Downloading Enron Email Data\n",
        "\n",
        "\n",
        "\n",
        "### Full/Complete Dataset\n",
        "\n",
        "The following code-cell will download the complete Enron email database to the Colab instance.  It will take about 1-2 mins to download."
      ],
      "metadata": {
        "id": "_6s_eJ_LyO1i"
      }
    },
    {
      "cell_type": "code",
      "execution_count": null,
      "metadata": {
        "id": "lIYdn1woOS1n",
        "colab": {
          "base_uri": "https://localhost:8080/"
        },
        "outputId": "5c725666-8558-4b86-95e9-7230944e9034"
      },
      "outputs": [
        {
          "output_type": "stream",
          "name": "stdout",
          "text": [
            "--2023-05-21 16:41:50--  https://curtin-my.sharepoint.com/:u:/g/personal/211934g_curtin_edu_au/EaYagsqa2r1Bi5wtHbswGFwBH2kd2uTnz6rlka7GI36GUQ?download=1\n",
            "Resolving curtin-my.sharepoint.com (curtin-my.sharepoint.com)... 13.107.136.8, 13.107.138.8, 2620:1ec:8f8::8, ...\n",
            "Connecting to curtin-my.sharepoint.com (curtin-my.sharepoint.com)|13.107.136.8|:443... connected.\n",
            "HTTP request sent, awaiting response... 302 Found\n",
            "Location: /personal/211934g_curtin_edu_au/Documents/Teaching/ISYS2001/ISYS2001-Assignment-2-Data/enron_sqlite3.db?ga=1 [following]\n",
            "--2023-05-21 16:41:51--  https://curtin-my.sharepoint.com/personal/211934g_curtin_edu_au/Documents/Teaching/ISYS2001/ISYS2001-Assignment-2-Data/enron_sqlite3.db?ga=1\n",
            "Reusing existing connection to curtin-my.sharepoint.com:443.\n",
            "HTTP request sent, awaiting response... 200 OK\n",
            "Length: 853819392 (814M) [application/octet-stream]\n",
            "Saving to: ‘enron.db’\n",
            "\n",
            "enron.db            100%[===================>] 814.27M  60.4MB/s    in 19s     \n",
            "\n",
            "2023-05-21 16:42:10 (42.7 MB/s) - ‘enron.db’ saved [853819392/853819392]\n",
            "\n"
          ]
        }
      ],
      "source": [
        "!wget -O enron.db https://curtin-my.sharepoint.com/:u:/g/personal/211934g_curtin_edu_au/EaYagsqa2r1Bi5wtHbswGFwBH2kd2uTnz6rlka7GI36GUQ?download=1"
      ]
    },
    {
      "cell_type": "code",
      "source": [
        "import sqlite3"
      ],
      "metadata": {
        "id": "CLJk8YSmT6Db"
      },
      "execution_count": null,
      "outputs": []
    },
    {
      "cell_type": "code",
      "source": [
        "conn = sqlite3.connect(\"enron.db\")"
      ],
      "metadata": {
        "id": "hJWmqXC8UDrP"
      },
      "execution_count": null,
      "outputs": []
    },
    {
      "cell_type": "code",
      "source": [
        "cur = conn.cursor()"
      ],
      "metadata": {
        "id": "zSI7GCgsUHzq"
      },
      "execution_count": null,
      "outputs": []
    },
    {
      "cell_type": "code",
      "source": [
        "sql = \"\"\"\n",
        "SELECT name\n",
        "FROM sqlite_master\n",
        "WHERE type = 'table';\n",
        "\"\"\"\n",
        "cur.execute(sql)\n",
        "cur.fetchall()"
      ],
      "metadata": {
        "colab": {
          "base_uri": "https://localhost:8080/"
        },
        "id": "mLk6ZBuWUPSD",
        "outputId": "5009518b-6065-48ad-cfa6-084a00cf409a"
      },
      "execution_count": null,
      "outputs": [
        {
          "output_type": "execute_result",
          "data": {
            "text/plain": [
              "[('employeelist',), ('message',), ('recipientinfo',), ('referenceinfo',)]"
            ]
          },
          "metadata": {},
          "execution_count": 6
        }
      ]
    },
    {
      "cell_type": "code",
      "source": [
        "sql = \"\"\"\n",
        "PRAGMA table_info('employeelist');\n",
        "\"\"\"\n",
        "\n",
        "cur.execute(sql)\n",
        "cur.fetchall()"
      ],
      "metadata": {
        "colab": {
          "base_uri": "https://localhost:8080/"
        },
        "id": "xrH5HSPzUTGz",
        "outputId": "036cbe3a-8ac0-429a-fc48-dc5faf12b9eb"
      },
      "execution_count": null,
      "outputs": [
        {
          "output_type": "execute_result",
          "data": {
            "text/plain": [
              "[(0, 'eid', 'INTEGER', 1, None, 1),\n",
              " (1, 'firstName', 'VARCHAR(31)', 1, \"''\", 0),\n",
              " (2, 'lastName', 'VARCHAR(31)', 1, \"''\", 0),\n",
              " (3, 'Email_id', 'VARCHAR(31)', 1, \"''\", 0),\n",
              " (4, 'Email2', 'VARCHAR(31)', 0, None, 0),\n",
              " (5, 'Email3', 'VARCHAR(31)', 0, None, 0),\n",
              " (6, 'EMail4', 'VARCHAR(31)', 0, None, 0),\n",
              " (7, 'folder', 'VARCHAR(31)', 1, \"''\", 0),\n",
              " (8, 'status', 'VARCHAR(50)', 0, None, 0)]"
            ]
          },
          "metadata": {},
          "execution_count": 7
        }
      ]
    },
    {
      "cell_type": "code",
      "source": [
        "sql = \"\"\"\n",
        "PRAGMA table_info('message');\n",
        "\"\"\"\n",
        "\n",
        "cur.execute(sql)\n",
        "cur.fetchall()"
      ],
      "metadata": {
        "colab": {
          "base_uri": "https://localhost:8080/"
        },
        "id": "_wu15LjEUZvl",
        "outputId": "b429bc48-5bd9-4608-bf90-3d260f435666"
      },
      "execution_count": null,
      "outputs": [
        {
          "output_type": "execute_result",
          "data": {
            "text/plain": [
              "[(0, 'mid', 'INTEGER', 1, \"'0'\", 1),\n",
              " (1, 'sender', 'VARCHAR(127)', 1, \"''\", 0),\n",
              " (2, 'date', 'DATETIME', 0, None, 0),\n",
              " (3, 'message_id', 'VARCHAR(127)', 0, None, 0),\n",
              " (4, 'subject', 'TEXT', 0, None, 0),\n",
              " (5, 'body', 'TEXT', 0, None, 0),\n",
              " (6, 'folder', 'VARCHAR(127)', 1, \"''\", 0)]"
            ]
          },
          "metadata": {},
          "execution_count": 8
        }
      ]
    },
    {
      "cell_type": "code",
      "source": [
        "sql = \"\"\"\n",
        "PRAGMA table_info('recipientinfo');\n",
        "\"\"\"\n",
        "\n",
        "cur.execute(sql)\n",
        "cur.fetchall()"
      ],
      "metadata": {
        "colab": {
          "base_uri": "https://localhost:8080/"
        },
        "id": "GvHsNXVkUh2p",
        "outputId": "f6a0794f-6152-44ed-e976-141391c9d176"
      },
      "execution_count": null,
      "outputs": [
        {
          "output_type": "execute_result",
          "data": {
            "text/plain": [
              "[(0, 'rid', 'INTEGER', 1, \"'0'\", 1),\n",
              " (1, 'mid', 'INTEGER', 1, \"'0'\", 0),\n",
              " (2, 'rtype', 'TEXT', 0, None, 0),\n",
              " (3, 'rvalue', 'VARCHAR(127)', 0, None, 0),\n",
              " (4, 'dater', 'DATETIME', 0, None, 0)]"
            ]
          },
          "metadata": {},
          "execution_count": 9
        }
      ]
    },
    {
      "cell_type": "code",
      "source": [
        "sql = \"\"\"\n",
        "PRAGMA table_info('referenceinfo');\n",
        "\"\"\"\n",
        "\n",
        "cur.execute(sql)\n",
        "cur.fetchall()"
      ],
      "metadata": {
        "colab": {
          "base_uri": "https://localhost:8080/"
        },
        "id": "TMlPb9hWUjlj",
        "outputId": "a438411a-aac8-47ab-c131-a548298a147b"
      },
      "execution_count": null,
      "outputs": [
        {
          "output_type": "execute_result",
          "data": {
            "text/plain": [
              "[(0, 'rfid', 'INTEGER', 1, \"'0'\", 1),\n",
              " (1, 'mid', 'INTEGER', 1, \"'0'\", 0),\n",
              " (2, 'reference', 'TEXT', 0, None, 0)]"
            ]
          },
          "metadata": {},
          "execution_count": 10
        }
      ]
    },
    {
      "cell_type": "code",
      "source": [
        "#Checking the format of the date\n",
        "sql = \"\"\"\n",
        "SELECT Date\n",
        "FROM message\n",
        "\"\"\"\n",
        "cur.execute(sql)\n",
        "cur.fetchone()"
      ],
      "metadata": {
        "colab": {
          "base_uri": "https://localhost:8080/"
        },
        "id": "Q5zkf2yRVD1i",
        "outputId": "ed7d3a72-45db-43ca-b5a0-a4eff0f07e07"
      },
      "execution_count": null,
      "outputs": [
        {
          "output_type": "execute_result",
          "data": {
            "text/plain": [
              "('2000-01-21 04:51:00',)"
            ]
          },
          "metadata": {},
          "execution_count": 11
        }
      ]
    },
    {
      "cell_type": "code",
      "source": [
        "import pandas as pd\n",
        "sql = \"\"\"\n",
        "SELECT * from message;\n",
        "\"\"\"\n",
        "message_df = pd.read_sql_query(sql,conn)\n",
        "message_df"
      ],
      "metadata": {
        "colab": {
          "base_uri": "https://localhost:8080/",
          "height": 803
        },
        "id": "ZyDYBqC_XOwa",
        "outputId": "b5f63591-46b5-4207-e934-75af3eea1223"
      },
      "execution_count": null,
      "outputs": [
        {
          "output_type": "execute_result",
          "data": {
            "text/plain": [
              "           mid                     sender                 date  \\\n",
              "0           52    press.release@enron.com  2000-01-21 04:51:00   \n",
              "1           53  office.chairman@enron.com  2000-01-24 01:37:00   \n",
              "2           54  office.chairman@enron.com  2000-01-24 02:06:00   \n",
              "3           55    press.release@enron.com  2000-02-02 10:21:00   \n",
              "4           56  office.chairman@enron.com  2000-02-07 22:16:00   \n",
              "...        ...                        ...                  ...   \n",
              "252754  404923    karen.buckley@enron.com  2002-02-06 16:51:29   \n",
              "252755  404924    karen.buckley@enron.com  2002-02-06 17:17:39   \n",
              "252756  404925       liz.taylor@enron.com  2002-02-06 20:09:37   \n",
              "252757  404926       pete.davis@enron.com  2002-02-07 04:38:13   \n",
              "252758  404927       pete.davis@enron.com  2002-02-07 05:38:14   \n",
              "\n",
              "                                           message_id  \\\n",
              "0       <12435833.1075863606729.JavaMail.evans@thyme>   \n",
              "1       <29664079.1075863606676.JavaMail.evans@thyme>   \n",
              "2       <15300605.1075863606629.JavaMail.evans@thyme>   \n",
              "3       <10522232.1075863606538.JavaMail.evans@thyme>   \n",
              "4       <16056123.1075863606515.JavaMail.evans@thyme>   \n",
              "...                                               ...   \n",
              "252754  <16183734.1075840015218.JavaMail.evans@thyme>   \n",
              "252755  <28117049.1075840015191.JavaMail.evans@thyme>   \n",
              "252756  <32633742.1075840015168.JavaMail.evans@thyme>   \n",
              "252757  <17912146.1075840015125.JavaMail.evans@thyme>   \n",
              "252758  <16703414.1075840015101.JavaMail.evans@thyme>   \n",
              "\n",
              "                                                  subject  \\\n",
              "0       ENRON HOSTS ANNUAL ANALYST CONFERENCE PROVIDES...   \n",
              "1                         Over $50 -- You made it happen!   \n",
              "2                         Over $50 -- You made it happen!   \n",
              "3       ROAD-SHOW.COM Q4i.COM CHOOSE ENRON TO DELIVER ...   \n",
              "4                            Fortune Most Admired Ranking   \n",
              "...                                                   ...   \n",
              "252754                   URGENT - NEED CONFIRMATION TODAY   \n",
              "252755                                                      \n",
              "252756  Trader Presentations - 2/7 @ 2:30 p.m. (CST) i...   \n",
              "252757             Start Date: 2/7/02; HourAhead hour: 3;   \n",
              "252758             Start Date: 2/7/02; HourAhead hour: 4;   \n",
              "\n",
              "                                                     body  \\\n",
              "0       HOUSTON - Enron Corp. hosted its annual equity...   \n",
              "1       On Wall Street, people are talking about Enron...   \n",
              "2       On Wall Street, people are talking about Enron...   \n",
              "3       HOUSTON =01) Enron Broadband Services (EBS), a...   \n",
              "4       Congratulations!  For an unprecedented five ye...   \n",
              "...                                                   ...   \n",
              "252754  X-FileName: Pls confirm at what location (i.e ...   \n",
              "252755  X-FileName: Craig - I need the date and locati...   \n",
              "252756  X-FileName:      There will be two presentatio...   \n",
              "252757  X-FileName: Start Date: 2/7/02; HourAhead hour...   \n",
              "252758  X-FileName: Start Date: 2/7/02; HourAhead hour...   \n",
              "\n",
              "                                                  folder  \n",
              "0       Robert_Badeer_Aug2000Notes FoldersPress releases  \n",
              "1       Robert_Badeer_Aug2000Notes FoldersPress releases  \n",
              "2       Robert_Badeer_Aug2000Notes FoldersPress releases  \n",
              "3       Robert_Badeer_Aug2000Notes FoldersPress releases  \n",
              "4       Robert_Badeer_Aug2000Notes FoldersPress releases  \n",
              "...                                                  ...  \n",
              "252754                        ExMerge - Dean, CraigInbox  \n",
              "252755                        ExMerge - Dean, CraigInbox  \n",
              "252756                        ExMerge - Dean, CraigInbox  \n",
              "252757                        ExMerge - Dean, CraigInbox  \n",
              "252758                        ExMerge - Dean, CraigInbox  \n",
              "\n",
              "[252759 rows x 7 columns]"
            ],
            "text/html": [
              "\n",
              "  <div id=\"df-23aea991-967e-491f-85ab-267823053b82\">\n",
              "    <div class=\"colab-df-container\">\n",
              "      <div>\n",
              "<style scoped>\n",
              "    .dataframe tbody tr th:only-of-type {\n",
              "        vertical-align: middle;\n",
              "    }\n",
              "\n",
              "    .dataframe tbody tr th {\n",
              "        vertical-align: top;\n",
              "    }\n",
              "\n",
              "    .dataframe thead th {\n",
              "        text-align: right;\n",
              "    }\n",
              "</style>\n",
              "<table border=\"1\" class=\"dataframe\">\n",
              "  <thead>\n",
              "    <tr style=\"text-align: right;\">\n",
              "      <th></th>\n",
              "      <th>mid</th>\n",
              "      <th>sender</th>\n",
              "      <th>date</th>\n",
              "      <th>message_id</th>\n",
              "      <th>subject</th>\n",
              "      <th>body</th>\n",
              "      <th>folder</th>\n",
              "    </tr>\n",
              "  </thead>\n",
              "  <tbody>\n",
              "    <tr>\n",
              "      <th>0</th>\n",
              "      <td>52</td>\n",
              "      <td>press.release@enron.com</td>\n",
              "      <td>2000-01-21 04:51:00</td>\n",
              "      <td>&lt;12435833.1075863606729.JavaMail.evans@thyme&gt;</td>\n",
              "      <td>ENRON HOSTS ANNUAL ANALYST CONFERENCE PROVIDES...</td>\n",
              "      <td>HOUSTON - Enron Corp. hosted its annual equity...</td>\n",
              "      <td>Robert_Badeer_Aug2000Notes FoldersPress releases</td>\n",
              "    </tr>\n",
              "    <tr>\n",
              "      <th>1</th>\n",
              "      <td>53</td>\n",
              "      <td>office.chairman@enron.com</td>\n",
              "      <td>2000-01-24 01:37:00</td>\n",
              "      <td>&lt;29664079.1075863606676.JavaMail.evans@thyme&gt;</td>\n",
              "      <td>Over $50 -- You made it happen!</td>\n",
              "      <td>On Wall Street, people are talking about Enron...</td>\n",
              "      <td>Robert_Badeer_Aug2000Notes FoldersPress releases</td>\n",
              "    </tr>\n",
              "    <tr>\n",
              "      <th>2</th>\n",
              "      <td>54</td>\n",
              "      <td>office.chairman@enron.com</td>\n",
              "      <td>2000-01-24 02:06:00</td>\n",
              "      <td>&lt;15300605.1075863606629.JavaMail.evans@thyme&gt;</td>\n",
              "      <td>Over $50 -- You made it happen!</td>\n",
              "      <td>On Wall Street, people are talking about Enron...</td>\n",
              "      <td>Robert_Badeer_Aug2000Notes FoldersPress releases</td>\n",
              "    </tr>\n",
              "    <tr>\n",
              "      <th>3</th>\n",
              "      <td>55</td>\n",
              "      <td>press.release@enron.com</td>\n",
              "      <td>2000-02-02 10:21:00</td>\n",
              "      <td>&lt;10522232.1075863606538.JavaMail.evans@thyme&gt;</td>\n",
              "      <td>ROAD-SHOW.COM Q4i.COM CHOOSE ENRON TO DELIVER ...</td>\n",
              "      <td>HOUSTON =01) Enron Broadband Services (EBS), a...</td>\n",
              "      <td>Robert_Badeer_Aug2000Notes FoldersPress releases</td>\n",
              "    </tr>\n",
              "    <tr>\n",
              "      <th>4</th>\n",
              "      <td>56</td>\n",
              "      <td>office.chairman@enron.com</td>\n",
              "      <td>2000-02-07 22:16:00</td>\n",
              "      <td>&lt;16056123.1075863606515.JavaMail.evans@thyme&gt;</td>\n",
              "      <td>Fortune Most Admired Ranking</td>\n",
              "      <td>Congratulations!  For an unprecedented five ye...</td>\n",
              "      <td>Robert_Badeer_Aug2000Notes FoldersPress releases</td>\n",
              "    </tr>\n",
              "    <tr>\n",
              "      <th>...</th>\n",
              "      <td>...</td>\n",
              "      <td>...</td>\n",
              "      <td>...</td>\n",
              "      <td>...</td>\n",
              "      <td>...</td>\n",
              "      <td>...</td>\n",
              "      <td>...</td>\n",
              "    </tr>\n",
              "    <tr>\n",
              "      <th>252754</th>\n",
              "      <td>404923</td>\n",
              "      <td>karen.buckley@enron.com</td>\n",
              "      <td>2002-02-06 16:51:29</td>\n",
              "      <td>&lt;16183734.1075840015218.JavaMail.evans@thyme&gt;</td>\n",
              "      <td>URGENT - NEED CONFIRMATION TODAY</td>\n",
              "      <td>X-FileName: Pls confirm at what location (i.e ...</td>\n",
              "      <td>ExMerge - Dean, CraigInbox</td>\n",
              "    </tr>\n",
              "    <tr>\n",
              "      <th>252755</th>\n",
              "      <td>404924</td>\n",
              "      <td>karen.buckley@enron.com</td>\n",
              "      <td>2002-02-06 17:17:39</td>\n",
              "      <td>&lt;28117049.1075840015191.JavaMail.evans@thyme&gt;</td>\n",
              "      <td></td>\n",
              "      <td>X-FileName: Craig - I need the date and locati...</td>\n",
              "      <td>ExMerge - Dean, CraigInbox</td>\n",
              "    </tr>\n",
              "    <tr>\n",
              "      <th>252756</th>\n",
              "      <td>404925</td>\n",
              "      <td>liz.taylor@enron.com</td>\n",
              "      <td>2002-02-06 20:09:37</td>\n",
              "      <td>&lt;32633742.1075840015168.JavaMail.evans@thyme&gt;</td>\n",
              "      <td>Trader Presentations - 2/7 @ 2:30 p.m. (CST) i...</td>\n",
              "      <td>X-FileName:      There will be two presentatio...</td>\n",
              "      <td>ExMerge - Dean, CraigInbox</td>\n",
              "    </tr>\n",
              "    <tr>\n",
              "      <th>252757</th>\n",
              "      <td>404926</td>\n",
              "      <td>pete.davis@enron.com</td>\n",
              "      <td>2002-02-07 04:38:13</td>\n",
              "      <td>&lt;17912146.1075840015125.JavaMail.evans@thyme&gt;</td>\n",
              "      <td>Start Date: 2/7/02; HourAhead hour: 3;</td>\n",
              "      <td>X-FileName: Start Date: 2/7/02; HourAhead hour...</td>\n",
              "      <td>ExMerge - Dean, CraigInbox</td>\n",
              "    </tr>\n",
              "    <tr>\n",
              "      <th>252758</th>\n",
              "      <td>404927</td>\n",
              "      <td>pete.davis@enron.com</td>\n",
              "      <td>2002-02-07 05:38:14</td>\n",
              "      <td>&lt;16703414.1075840015101.JavaMail.evans@thyme&gt;</td>\n",
              "      <td>Start Date: 2/7/02; HourAhead hour: 4;</td>\n",
              "      <td>X-FileName: Start Date: 2/7/02; HourAhead hour...</td>\n",
              "      <td>ExMerge - Dean, CraigInbox</td>\n",
              "    </tr>\n",
              "  </tbody>\n",
              "</table>\n",
              "<p>252759 rows × 7 columns</p>\n",
              "</div>\n",
              "      <button class=\"colab-df-convert\" onclick=\"convertToInteractive('df-23aea991-967e-491f-85ab-267823053b82')\"\n",
              "              title=\"Convert this dataframe to an interactive table.\"\n",
              "              style=\"display:none;\">\n",
              "        \n",
              "  <svg xmlns=\"http://www.w3.org/2000/svg\" height=\"24px\"viewBox=\"0 0 24 24\"\n",
              "       width=\"24px\">\n",
              "    <path d=\"M0 0h24v24H0V0z\" fill=\"none\"/>\n",
              "    <path d=\"M18.56 5.44l.94 2.06.94-2.06 2.06-.94-2.06-.94-.94-2.06-.94 2.06-2.06.94zm-11 1L8.5 8.5l.94-2.06 2.06-.94-2.06-.94L8.5 2.5l-.94 2.06-2.06.94zm10 10l.94 2.06.94-2.06 2.06-.94-2.06-.94-.94-2.06-.94 2.06-2.06.94z\"/><path d=\"M17.41 7.96l-1.37-1.37c-.4-.4-.92-.59-1.43-.59-.52 0-1.04.2-1.43.59L10.3 9.45l-7.72 7.72c-.78.78-.78 2.05 0 2.83L4 21.41c.39.39.9.59 1.41.59.51 0 1.02-.2 1.41-.59l7.78-7.78 2.81-2.81c.8-.78.8-2.07 0-2.86zM5.41 20L4 18.59l7.72-7.72 1.47 1.35L5.41 20z\"/>\n",
              "  </svg>\n",
              "      </button>\n",
              "      \n",
              "  <style>\n",
              "    .colab-df-container {\n",
              "      display:flex;\n",
              "      flex-wrap:wrap;\n",
              "      gap: 12px;\n",
              "    }\n",
              "\n",
              "    .colab-df-convert {\n",
              "      background-color: #E8F0FE;\n",
              "      border: none;\n",
              "      border-radius: 50%;\n",
              "      cursor: pointer;\n",
              "      display: none;\n",
              "      fill: #1967D2;\n",
              "      height: 32px;\n",
              "      padding: 0 0 0 0;\n",
              "      width: 32px;\n",
              "    }\n",
              "\n",
              "    .colab-df-convert:hover {\n",
              "      background-color: #E2EBFA;\n",
              "      box-shadow: 0px 1px 2px rgba(60, 64, 67, 0.3), 0px 1px 3px 1px rgba(60, 64, 67, 0.15);\n",
              "      fill: #174EA6;\n",
              "    }\n",
              "\n",
              "    [theme=dark] .colab-df-convert {\n",
              "      background-color: #3B4455;\n",
              "      fill: #D2E3FC;\n",
              "    }\n",
              "\n",
              "    [theme=dark] .colab-df-convert:hover {\n",
              "      background-color: #434B5C;\n",
              "      box-shadow: 0px 1px 3px 1px rgba(0, 0, 0, 0.15);\n",
              "      filter: drop-shadow(0px 1px 2px rgba(0, 0, 0, 0.3));\n",
              "      fill: #FFFFFF;\n",
              "    }\n",
              "  </style>\n",
              "\n",
              "      <script>\n",
              "        const buttonEl =\n",
              "          document.querySelector('#df-23aea991-967e-491f-85ab-267823053b82 button.colab-df-convert');\n",
              "        buttonEl.style.display =\n",
              "          google.colab.kernel.accessAllowed ? 'block' : 'none';\n",
              "\n",
              "        async function convertToInteractive(key) {\n",
              "          const element = document.querySelector('#df-23aea991-967e-491f-85ab-267823053b82');\n",
              "          const dataTable =\n",
              "            await google.colab.kernel.invokeFunction('convertToInteractive',\n",
              "                                                     [key], {});\n",
              "          if (!dataTable) return;\n",
              "\n",
              "          const docLinkHtml = 'Like what you see? Visit the ' +\n",
              "            '<a target=\"_blank\" href=https://colab.research.google.com/notebooks/data_table.ipynb>data table notebook</a>'\n",
              "            + ' to learn more about interactive tables.';\n",
              "          element.innerHTML = '';\n",
              "          dataTable['output_type'] = 'display_data';\n",
              "          await google.colab.output.renderOutput(dataTable, element);\n",
              "          const docLink = document.createElement('div');\n",
              "          docLink.innerHTML = docLinkHtml;\n",
              "          element.appendChild(docLink);\n",
              "        }\n",
              "      </script>\n",
              "    </div>\n",
              "  </div>\n",
              "  "
            ]
          },
          "metadata": {},
          "execution_count": 12
        }
      ]
    },
    {
      "cell_type": "code",
      "source": [
        "message_df.info()"
      ],
      "metadata": {
        "colab": {
          "base_uri": "https://localhost:8080/"
        },
        "id": "HpK1kbF_XtE_",
        "outputId": "a8d670fc-9e83-4985-c952-73638ea651dd"
      },
      "execution_count": null,
      "outputs": [
        {
          "output_type": "stream",
          "name": "stdout",
          "text": [
            "<class 'pandas.core.frame.DataFrame'>\n",
            "RangeIndex: 252759 entries, 0 to 252758\n",
            "Data columns (total 7 columns):\n",
            " #   Column      Non-Null Count   Dtype \n",
            "---  ------      --------------   ----- \n",
            " 0   mid         252759 non-null  int64 \n",
            " 1   sender      252759 non-null  object\n",
            " 2   date        252759 non-null  object\n",
            " 3   message_id  252759 non-null  object\n",
            " 4   subject     252759 non-null  object\n",
            " 5   body        252759 non-null  object\n",
            " 6   folder      252759 non-null  object\n",
            "dtypes: int64(1), object(6)\n",
            "memory usage: 13.5+ MB\n"
          ]
        }
      ]
    },
    {
      "cell_type": "code",
      "source": [
        "sql = \"\"\"\n",
        "SELECT strftime('%Y-%m-%d', date) AS day, COUNT(*) AS count_email\n",
        "FROM message\n",
        "Group by day\n",
        "\"\"\"\n",
        "cur.execute(sql)\n",
        "cur.fetchone()"
      ],
      "metadata": {
        "colab": {
          "base_uri": "https://localhost:8080/"
        },
        "id": "VMTGnr1_asu8",
        "outputId": "b96270f6-cfd9-4455-f322-bfb480684686"
      },
      "execution_count": null,
      "outputs": [
        {
          "output_type": "execute_result",
          "data": {
            "text/plain": [
              "('0001-05-30', 2)"
            ]
          },
          "metadata": {},
          "execution_count": 14
        }
      ]
    },
    {
      "cell_type": "code",
      "source": [
        "sql = \"\"\"\n",
        "SELECT strftime('%Y-%w', date) AS week, COUNT(*) AS count_email\n",
        "FROM message\n",
        "Group by week\n",
        "\"\"\"\n",
        "cur.execute(sql)\n",
        "cur.fetchone()"
      ],
      "metadata": {
        "id": "VSUuLXLlL-Q1",
        "colab": {
          "base_uri": "https://localhost:8080/"
        },
        "outputId": "08dc54d7-c932-4767-e1be-616c6407c415"
      },
      "execution_count": null,
      "outputs": [
        {
          "output_type": "execute_result",
          "data": {
            "text/plain": [
              "('0001-0', 4)"
            ]
          },
          "metadata": {},
          "execution_count": 17
        }
      ]
    },
    {
      "cell_type": "code",
      "source": [
        "sql = \"\"\"\n",
        "SELECT strftime('%Y-%m', date) AS month, COUNT(*) AS count_email\n",
        "FROM message\n",
        "Group by month\n",
        "\"\"\"\n",
        "cur.execute(sql)\n",
        "cur.fetchone()"
      ],
      "metadata": {
        "colab": {
          "base_uri": "https://localhost:8080/"
        },
        "id": "AJMf1830NBTH",
        "outputId": "aa776f21-36fa-4743-b1cb-89089e800ba7"
      },
      "execution_count": 75,
      "outputs": [
        {
          "output_type": "execute_result",
          "data": {
            "text/plain": [
              "('0001-05', 2)"
            ]
          },
          "metadata": {},
          "execution_count": 75
        }
      ]
    },
    {
      "cell_type": "code",
      "source": [
        "import pandas as pd\n",
        "message_df = pd.read_sql_query(sql,conn)"
      ],
      "metadata": {
        "id": "1v1zPWqUN7U9"
      },
      "execution_count": 103,
      "outputs": []
    },
    {
      "cell_type": "code",
      "source": [
        "message_df.value_counts(\"count_email\")"
      ],
      "metadata": {
        "colab": {
          "base_uri": "https://localhost:8080/"
        },
        "id": "yluDBZjtblXV",
        "outputId": "184a0338-5996-47a4-f27f-6ed1c1de8fa7"
      },
      "execution_count": 104,
      "outputs": [
        {
          "output_type": "execute_result",
          "data": {
            "text/plain": [
              "count_email\n",
              "1         3\n",
              "53        2\n",
              "2         1\n",
              "3         1\n",
              "6         1\n",
              "85        1\n",
              "205       1\n",
              "4760      1\n",
              "22562     1\n",
              "68707     1\n",
              "156320    1\n",
              "dtype: int64"
            ]
          },
          "metadata": {},
          "execution_count": 104
        }
      ]
    },
    {
      "cell_type": "code",
      "source": [
        "employeelist_df = pd.read_sql_query(sql,conn)\n",
        "employeelist_df"
      ],
      "metadata": {
        "colab": {
          "base_uri": "https://localhost:8080/",
          "height": 483
        },
        "id": "5Zpxm3aziRY7",
        "outputId": "db697d2f-35a4-42fe-d232-992860f266c7"
      },
      "execution_count": 108,
      "outputs": [
        {
          "output_type": "execute_result",
          "data": {
            "text/plain": [
              "    year  count_email\n",
              "0   0001          205\n",
              "1   0002           53\n",
              "2   1979            6\n",
              "3   1997            1\n",
              "4   1998           85\n",
              "5   1999         4760\n",
              "6   2000        68707\n",
              "7   2001       156320\n",
              "8   2002        22562\n",
              "9   2004           53\n",
              "10  2007            1\n",
              "11  2020            2\n",
              "12  2043            1\n",
              "13  2044            3"
            ],
            "text/html": [
              "\n",
              "  <div id=\"df-269be1ac-fe23-4e0a-ad7c-1e90cf4437c3\">\n",
              "    <div class=\"colab-df-container\">\n",
              "      <div>\n",
              "<style scoped>\n",
              "    .dataframe tbody tr th:only-of-type {\n",
              "        vertical-align: middle;\n",
              "    }\n",
              "\n",
              "    .dataframe tbody tr th {\n",
              "        vertical-align: top;\n",
              "    }\n",
              "\n",
              "    .dataframe thead th {\n",
              "        text-align: right;\n",
              "    }\n",
              "</style>\n",
              "<table border=\"1\" class=\"dataframe\">\n",
              "  <thead>\n",
              "    <tr style=\"text-align: right;\">\n",
              "      <th></th>\n",
              "      <th>year</th>\n",
              "      <th>count_email</th>\n",
              "    </tr>\n",
              "  </thead>\n",
              "  <tbody>\n",
              "    <tr>\n",
              "      <th>0</th>\n",
              "      <td>0001</td>\n",
              "      <td>205</td>\n",
              "    </tr>\n",
              "    <tr>\n",
              "      <th>1</th>\n",
              "      <td>0002</td>\n",
              "      <td>53</td>\n",
              "    </tr>\n",
              "    <tr>\n",
              "      <th>2</th>\n",
              "      <td>1979</td>\n",
              "      <td>6</td>\n",
              "    </tr>\n",
              "    <tr>\n",
              "      <th>3</th>\n",
              "      <td>1997</td>\n",
              "      <td>1</td>\n",
              "    </tr>\n",
              "    <tr>\n",
              "      <th>4</th>\n",
              "      <td>1998</td>\n",
              "      <td>85</td>\n",
              "    </tr>\n",
              "    <tr>\n",
              "      <th>5</th>\n",
              "      <td>1999</td>\n",
              "      <td>4760</td>\n",
              "    </tr>\n",
              "    <tr>\n",
              "      <th>6</th>\n",
              "      <td>2000</td>\n",
              "      <td>68707</td>\n",
              "    </tr>\n",
              "    <tr>\n",
              "      <th>7</th>\n",
              "      <td>2001</td>\n",
              "      <td>156320</td>\n",
              "    </tr>\n",
              "    <tr>\n",
              "      <th>8</th>\n",
              "      <td>2002</td>\n",
              "      <td>22562</td>\n",
              "    </tr>\n",
              "    <tr>\n",
              "      <th>9</th>\n",
              "      <td>2004</td>\n",
              "      <td>53</td>\n",
              "    </tr>\n",
              "    <tr>\n",
              "      <th>10</th>\n",
              "      <td>2007</td>\n",
              "      <td>1</td>\n",
              "    </tr>\n",
              "    <tr>\n",
              "      <th>11</th>\n",
              "      <td>2020</td>\n",
              "      <td>2</td>\n",
              "    </tr>\n",
              "    <tr>\n",
              "      <th>12</th>\n",
              "      <td>2043</td>\n",
              "      <td>1</td>\n",
              "    </tr>\n",
              "    <tr>\n",
              "      <th>13</th>\n",
              "      <td>2044</td>\n",
              "      <td>3</td>\n",
              "    </tr>\n",
              "  </tbody>\n",
              "</table>\n",
              "</div>\n",
              "      <button class=\"colab-df-convert\" onclick=\"convertToInteractive('df-269be1ac-fe23-4e0a-ad7c-1e90cf4437c3')\"\n",
              "              title=\"Convert this dataframe to an interactive table.\"\n",
              "              style=\"display:none;\">\n",
              "        \n",
              "  <svg xmlns=\"http://www.w3.org/2000/svg\" height=\"24px\"viewBox=\"0 0 24 24\"\n",
              "       width=\"24px\">\n",
              "    <path d=\"M0 0h24v24H0V0z\" fill=\"none\"/>\n",
              "    <path d=\"M18.56 5.44l.94 2.06.94-2.06 2.06-.94-2.06-.94-.94-2.06-.94 2.06-2.06.94zm-11 1L8.5 8.5l.94-2.06 2.06-.94-2.06-.94L8.5 2.5l-.94 2.06-2.06.94zm10 10l.94 2.06.94-2.06 2.06-.94-2.06-.94-.94-2.06-.94 2.06-2.06.94z\"/><path d=\"M17.41 7.96l-1.37-1.37c-.4-.4-.92-.59-1.43-.59-.52 0-1.04.2-1.43.59L10.3 9.45l-7.72 7.72c-.78.78-.78 2.05 0 2.83L4 21.41c.39.39.9.59 1.41.59.51 0 1.02-.2 1.41-.59l7.78-7.78 2.81-2.81c.8-.78.8-2.07 0-2.86zM5.41 20L4 18.59l7.72-7.72 1.47 1.35L5.41 20z\"/>\n",
              "  </svg>\n",
              "      </button>\n",
              "      \n",
              "  <style>\n",
              "    .colab-df-container {\n",
              "      display:flex;\n",
              "      flex-wrap:wrap;\n",
              "      gap: 12px;\n",
              "    }\n",
              "\n",
              "    .colab-df-convert {\n",
              "      background-color: #E8F0FE;\n",
              "      border: none;\n",
              "      border-radius: 50%;\n",
              "      cursor: pointer;\n",
              "      display: none;\n",
              "      fill: #1967D2;\n",
              "      height: 32px;\n",
              "      padding: 0 0 0 0;\n",
              "      width: 32px;\n",
              "    }\n",
              "\n",
              "    .colab-df-convert:hover {\n",
              "      background-color: #E2EBFA;\n",
              "      box-shadow: 0px 1px 2px rgba(60, 64, 67, 0.3), 0px 1px 3px 1px rgba(60, 64, 67, 0.15);\n",
              "      fill: #174EA6;\n",
              "    }\n",
              "\n",
              "    [theme=dark] .colab-df-convert {\n",
              "      background-color: #3B4455;\n",
              "      fill: #D2E3FC;\n",
              "    }\n",
              "\n",
              "    [theme=dark] .colab-df-convert:hover {\n",
              "      background-color: #434B5C;\n",
              "      box-shadow: 0px 1px 3px 1px rgba(0, 0, 0, 0.15);\n",
              "      filter: drop-shadow(0px 1px 2px rgba(0, 0, 0, 0.3));\n",
              "      fill: #FFFFFF;\n",
              "    }\n",
              "  </style>\n",
              "\n",
              "      <script>\n",
              "        const buttonEl =\n",
              "          document.querySelector('#df-269be1ac-fe23-4e0a-ad7c-1e90cf4437c3 button.colab-df-convert');\n",
              "        buttonEl.style.display =\n",
              "          google.colab.kernel.accessAllowed ? 'block' : 'none';\n",
              "\n",
              "        async function convertToInteractive(key) {\n",
              "          const element = document.querySelector('#df-269be1ac-fe23-4e0a-ad7c-1e90cf4437c3');\n",
              "          const dataTable =\n",
              "            await google.colab.kernel.invokeFunction('convertToInteractive',\n",
              "                                                     [key], {});\n",
              "          if (!dataTable) return;\n",
              "\n",
              "          const docLinkHtml = 'Like what you see? Visit the ' +\n",
              "            '<a target=\"_blank\" href=https://colab.research.google.com/notebooks/data_table.ipynb>data table notebook</a>'\n",
              "            + ' to learn more about interactive tables.';\n",
              "          element.innerHTML = '';\n",
              "          dataTable['output_type'] = 'display_data';\n",
              "          await google.colab.output.renderOutput(dataTable, element);\n",
              "          const docLink = document.createElement('div');\n",
              "          docLink.innerHTML = docLinkHtml;\n",
              "          element.appendChild(docLink);\n",
              "        }\n",
              "      </script>\n",
              "    </div>\n",
              "  </div>\n",
              "  "
            ]
          },
          "metadata": {},
          "execution_count": 108
        }
      ]
    },
    {
      "cell_type": "code",
      "source": [
        "import seaborn as sns\n",
        "import matplotlib.pyplot as plt"
      ],
      "metadata": {
        "id": "TBgONCR9bDxZ"
      },
      "execution_count": 105,
      "outputs": []
    },
    {
      "cell_type": "code",
      "source": [
        "sns.scatterplot(x='count_email', y='year', data=message_df, )\n",
        "plt.show()\n",
        "sns.pairplot(data=message_df, diag_kind='kde')"
      ],
      "metadata": {
        "colab": {
          "base_uri": "https://localhost:8080/",
          "height": 718
        },
        "id": "7osVuUvfcqpF",
        "outputId": "97207818-62d3-4c7c-86aa-ddc7715066f3"
      },
      "execution_count": 115,
      "outputs": [
        {
          "output_type": "display_data",
          "data": {
            "text/plain": [
              "<Figure size 640x480 with 1 Axes>"
            ],
            "image/png": "[encoded data removed]"
          },
          "metadata": {}
        },
        {
          "output_type": "execute_result",
          "data": {
            "text/plain": [
              "<seaborn.axisgrid.PairGrid at 0x7fe9f90a0220>"
            ]
          },
          "metadata": {},
          "execution_count": 115
        },
        {
          "output_type": "display_data",
          "data": {
            "text/plain": [
              "<Figure size 250x250 with 2 Axes>"
            ],
            "image/png": "[encoded data removed]"
          },
          "metadata": {}
        }
      ]
    },
    {
      "cell_type": "code",
      "source": [
        "sns.countplot(x='count_email', y='year', data=message_df, )\n",
        "plt.show()"
      ],
      "metadata": {
        "colab": {
          "base_uri": "https://localhost:8080/",
          "height": 317
        },
        "id": "93PSqiJVg8hd",
        "outputId": "78166640-7667-4b6d-898a-de803048ca62"
      },
      "execution_count": 112,
      "outputs": [
        {
          "output_type": "error",
          "ename": "ValueError",
          "evalue": "ignored",
          "traceback": [
            "\u001b[0;31m---------------------------------------------------------------------------\u001b[0m",
            "\u001b[0;31mValueError\u001b[0m                                Traceback (most recent call last)",
            "\u001b[0;32m<ipython-input-112-e3297dc9ef0e>\u001b[0m in \u001b[0;36m<cell line: 1>\u001b[0;34m()\u001b[0m\n\u001b[0;32m----> 1\u001b[0;31m \u001b[0msns\u001b[0m\u001b[0;34m.\u001b[0m\u001b[0mcountplot\u001b[0m\u001b[0;34m(\u001b[0m\u001b[0mx\u001b[0m\u001b[0;34m=\u001b[0m\u001b[0;34m'count_email'\u001b[0m\u001b[0;34m,\u001b[0m \u001b[0my\u001b[0m\u001b[0;34m=\u001b[0m\u001b[0;34m'year'\u001b[0m\u001b[0;34m,\u001b[0m \u001b[0mdata\u001b[0m\u001b[0;34m=\u001b[0m\u001b[0mmessage_df\u001b[0m\u001b[0;34m,\u001b[0m \u001b[0;34m)\u001b[0m\u001b[0;34m\u001b[0m\u001b[0;34m\u001b[0m\u001b[0m\n\u001b[0m\u001b[1;32m      2\u001b[0m \u001b[0mplt\u001b[0m\u001b[0;34m.\u001b[0m\u001b[0mshow\u001b[0m\u001b[0;34m(\u001b[0m\u001b[0;34m)\u001b[0m\u001b[0;34m\u001b[0m\u001b[0;34m\u001b[0m\u001b[0m\n",
            "\u001b[0;32m/usr/local/lib/python3.10/dist-packages/seaborn/categorical.py\u001b[0m in \u001b[0;36mcountplot\u001b[0;34m(data, x, y, hue, order, hue_order, orient, color, palette, saturation, width, dodge, ax, **kwargs)\u001b[0m\n\u001b[1;32m   2939\u001b[0m         \u001b[0my\u001b[0m \u001b[0;34m=\u001b[0m \u001b[0mx\u001b[0m\u001b[0;34m\u001b[0m\u001b[0;34m\u001b[0m\u001b[0m\n\u001b[1;32m   2940\u001b[0m     \u001b[0;32melif\u001b[0m \u001b[0mx\u001b[0m \u001b[0;32mis\u001b[0m \u001b[0;32mnot\u001b[0m \u001b[0;32mNone\u001b[0m \u001b[0;32mand\u001b[0m \u001b[0my\u001b[0m \u001b[0;32mis\u001b[0m \u001b[0;32mnot\u001b[0m \u001b[0;32mNone\u001b[0m\u001b[0;34m:\u001b[0m\u001b[0;34m\u001b[0m\u001b[0;34m\u001b[0m\u001b[0m\n\u001b[0;32m-> 2941\u001b[0;31m         \u001b[0;32mraise\u001b[0m \u001b[0mValueError\u001b[0m\u001b[0;34m(\u001b[0m\u001b[0;34m\"Cannot pass values for both `x` and `y`\"\u001b[0m\u001b[0;34m)\u001b[0m\u001b[0;34m\u001b[0m\u001b[0;34m\u001b[0m\u001b[0m\n\u001b[0m\u001b[1;32m   2942\u001b[0m \u001b[0;34m\u001b[0m\u001b[0m\n\u001b[1;32m   2943\u001b[0m     plotter = _CountPlotter(\n",
            "\u001b[0;31mValueError\u001b[0m: Cannot pass values for both `x` and `y`"
          ]
        }
      ]
    }
  ],
  "metadata": {
    "colab": {
      "provenance": [],
      "include_colab_link": true
    },
    "kernelspec": {
      "display_name": "Python 3",
      "name": "python3"
    }
  },
  "nbformat": 4,
  "nbformat_minor": 0
}